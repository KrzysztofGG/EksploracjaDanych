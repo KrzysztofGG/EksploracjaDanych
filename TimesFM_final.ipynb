{
 "cells": [
  {
   "cell_type": "markdown",
   "metadata": {
    "id": "9RyuJM3YSRbU"
   },
   "source": [
    "## Installing and loading libraries"
   ]
  },
  {
   "cell_type": "code",
   "execution_count": 1,
   "metadata": {
    "colab": {
     "base_uri": "https://localhost:8080/"
    },
    "id": "V80T-n7hbUYa",
    "outputId": "5fc39773-d55d-4728-ba92-8af80d8643e6"
   },
   "outputs": [
    {
     "name": "stdout",
     "output_type": "stream",
     "text": [
      "/bin/bash: -c: line 1: syntax error near unexpected token `('\n",
      "/bin/bash: -c: line 1: `pip install huggingface_hub(cli)'\n",
      "Collecting utilsforecast\n",
      "  Downloading utilsforecast-0.2.12-py3-none-any.whl.metadata (7.6 kB)\n",
      "Requirement already satisfied: numpy in /usr/local/lib/python3.11/dist-packages (from utilsforecast) (2.0.2)\n",
      "Requirement already satisfied: packaging in /usr/local/lib/python3.11/dist-packages (from utilsforecast) (24.2)\n",
      "Requirement already satisfied: pandas>=1.1.1 in /usr/local/lib/python3.11/dist-packages (from utilsforecast) (2.2.2)\n",
      "Requirement already satisfied: python-dateutil>=2.8.2 in /usr/local/lib/python3.11/dist-packages (from pandas>=1.1.1->utilsforecast) (2.9.0.post0)\n",
      "Requirement already satisfied: pytz>=2020.1 in /usr/local/lib/python3.11/dist-packages (from pandas>=1.1.1->utilsforecast) (2025.2)\n",
      "Requirement already satisfied: tzdata>=2022.7 in /usr/local/lib/python3.11/dist-packages (from pandas>=1.1.1->utilsforecast) (2025.2)\n",
      "Requirement already satisfied: six>=1.5 in /usr/local/lib/python3.11/dist-packages (from python-dateutil>=2.8.2->pandas>=1.1.1->utilsforecast) (1.17.0)\n",
      "Downloading utilsforecast-0.2.12-py3-none-any.whl (42 kB)\n",
      "\u001b[2K   \u001b[90m━━━━━━━━━━━━━━━━━━━━━━━━━━━━━━━━━━━━━━━━\u001b[0m \u001b[32m42.2/42.2 kB\u001b[0m \u001b[31m2.7 MB/s\u001b[0m eta \u001b[36m0:00:00\u001b[0m\n",
      "\u001b[?25hInstalling collected packages: utilsforecast\n",
      "Successfully installed utilsforecast-0.2.12\n",
      "Collecting praxis\n",
      "  Downloading praxis-1.4.0-py3-none-any.whl.metadata (1.2 kB)\n",
      "Requirement already satisfied: absl-py==1.4.0 in /usr/local/lib/python3.11/dist-packages (from praxis) (1.4.0)\n",
      "Requirement already satisfied: chex>=0.1.85 in /usr/local/lib/python3.11/dist-packages (from praxis) (0.1.89)\n",
      "Collecting clu==0.0.11 (from praxis)\n",
      "  Downloading clu-0.0.11-py3-none-any.whl.metadata (1.9 kB)\n",
      "Collecting einops==0.7.0 (from praxis)\n",
      "  Downloading einops-0.7.0-py3-none-any.whl.metadata (13 kB)\n",
      "Collecting etils==1.7.0 (from praxis)\n",
      "  Downloading etils-1.7.0-py3-none-any.whl.metadata (6.4 kB)\n",
      "Collecting fiddle==0.3.0 (from praxis)\n",
      "  Downloading fiddle-0.3.0-py3-none-any.whl.metadata (2.3 kB)\n",
      "Collecting flax==0.8.2 (from praxis)\n",
      "  Downloading flax-0.8.2-py3-none-any.whl.metadata (10 kB)\n",
      "Collecting jax-bitempered-loss==0.0.2 (from praxis)\n",
      "  Downloading jax_bitempered_loss-0.0.2-py3-none-any.whl.metadata (4.0 kB)\n",
      "Collecting jax==0.4.26 (from praxis)\n",
      "  Downloading jax-0.4.26-py3-none-any.whl.metadata (23 kB)\n",
      "Collecting jaxtyping==0.2.28 (from praxis)\n",
      "  Downloading jaxtyping-0.2.28-py3-none-any.whl.metadata (6.4 kB)\n",
      "INFO: pip is looking at multiple versions of praxis to determine which version is compatible with other requirements. This could take a while.\n",
      "Collecting praxis\n",
      "  Downloading praxis-1.3.1-py3-none-any.whl.metadata (1.1 kB)\n",
      "Requirement already satisfied: einops in /usr/local/lib/python3.11/dist-packages (from praxis) (0.8.1)\n",
      "Requirement already satisfied: etils in /usr/local/lib/python3.11/dist-packages (from praxis) (1.12.2)\n",
      "Collecting fiddle==0.2.11 (from praxis)\n",
      "  Downloading fiddle-0.2.11-py3-none-any.whl.metadata (2.2 kB)\n",
      "Collecting flax==0.8.1 (from praxis)\n",
      "  Downloading flax-0.8.1-py3-none-any.whl.metadata (10 kB)\n",
      "Collecting jax==0.4.24 (from praxis)\n",
      "  Downloading jax-0.4.24-py3-none-any.whl.metadata (24 kB)\n",
      "Collecting jaxtyping (from praxis)\n",
      "  Downloading jaxtyping-0.3.2-py3-none-any.whl.metadata (7.0 kB)\n",
      "Collecting praxis\n",
      "  Downloading praxis-1.3.0-py3-none-any.whl.metadata (1.1 kB)\n",
      "Collecting chex==0.1.85 (from praxis)\n",
      "  Downloading chex-0.1.85-py3-none-any.whl.metadata (17 kB)\n",
      "Collecting clu (from praxis)\n",
      "  Downloading clu-0.0.12-py3-none-any.whl.metadata (1.9 kB)\n",
      "Collecting praxis\n",
      "  Downloading praxis-1.2.0-py3-none-any.whl.metadata (1.0 kB)\n",
      "Requirement already satisfied: flax in /usr/local/lib/python3.11/dist-packages (from praxis) (0.10.6)\n",
      "Collecting jax==0.4.18 (from praxis)\n",
      "  Downloading jax-0.4.18-py3-none-any.whl.metadata (23 kB)\n",
      "Collecting praxis\n",
      "  Downloading praxis-1.1.0-1-py3-none-any.whl.metadata (1.1 kB)\n",
      "Collecting clu==0.0.9 (from praxis)\n",
      "  Downloading clu-0.0.9-py3-none-any.whl.metadata (2.0 kB)\n",
      "Collecting einops==0.6.1 (from praxis)\n",
      "  Downloading einops-0.6.1-py3-none-any.whl.metadata (12 kB)\n",
      "Collecting etils==1.4.1 (from etils[enp,epath,epy]==1.4.1->praxis)\n",
      "  Downloading etils-1.4.1-py3-none-any.whl.metadata (5.9 kB)\n",
      "Collecting flax==0.7.2 (from praxis)\n",
      "  Downloading flax-0.7.2-py3-none-any.whl.metadata (10.0 kB)\n",
      "Collecting jax==0.4.14 (from praxis)\n",
      "  Downloading jax-0.4.14.tar.gz (1.3 MB)\n",
      "\u001b[2K     \u001b[90m━━━━━━━━━━━━━━━━━━━━━━━━━━━━━━━━━━━━━━━━\u001b[0m \u001b[32m1.3/1.3 MB\u001b[0m \u001b[31m27.4 MB/s\u001b[0m eta \u001b[36m0:00:00\u001b[0m\n",
      "\u001b[?25h  Installing build dependencies ... \u001b[?25l\u001b[?25hdone\n",
      "  Getting requirements to build wheel ... \u001b[?25l\u001b[?25hdone\n",
      "  Preparing metadata (pyproject.toml) ... \u001b[?25l\u001b[?25hdone\n",
      "Collecting jaxtyping==0.2.21 (from praxis)\n",
      "  Downloading jaxtyping-0.2.21-py3-none-any.whl.metadata (6.0 kB)\n",
      "Collecting praxis\n",
      "  Downloading praxis-1.0.0-2-py3-none-any.whl.metadata (951 bytes)\n",
      "Collecting clu==0.0.8 (from praxis)\n",
      "  Downloading clu-0.0.8-py3-none-any.whl.metadata (2.0 kB)\n",
      "Collecting einops==0.6.0 (from praxis)\n",
      "  Downloading einops-0.6.0-py3-none-any.whl.metadata (12 kB)\n",
      "Collecting fiddle==0.2.6 (from praxis)\n",
      "  Downloading fiddle-0.2.6-py3-none-any.whl.metadata (2.1 kB)\n",
      "Collecting flax==0.6.8 (from praxis)\n",
      "  Downloading flax-0.6.8-py3-none-any.whl.metadata (9.9 kB)\n",
      "Collecting jax==0.4.7 (from praxis)\n",
      "  Downloading jax-0.4.7.tar.gz (1.2 MB)\n",
      "\u001b[2K     \u001b[90m━━━━━━━━━━━━━━━━━━━━━━━━━━━━━━━━━━━━━━━━\u001b[0m \u001b[32m1.2/1.2 MB\u001b[0m \u001b[31m51.7 MB/s\u001b[0m eta \u001b[36m0:00:00\u001b[0m\n",
      "\u001b[?25h  Preparing metadata (setup.py) ... \u001b[?25l\u001b[?25hdone\n",
      "Collecting jaxlib==0.4.7 (from praxis)\n",
      "  Downloading jaxlib-0.4.7-cp311-cp311-manylinux2014_x86_64.whl.metadata (998 bytes)\n",
      "Collecting praxis\n",
      "  Downloading praxis-0.4.0-py3-none-any.whl.metadata (776 bytes)\n",
      "Requirement already satisfied: jax in /usr/local/lib/python3.11/dist-packages (from praxis) (0.5.2)\n",
      "  Downloading praxis-0.3.0-py3-none-any.whl.metadata (830 bytes)\n",
      "INFO: pip is still looking at multiple versions of praxis to determine which version is compatible with other requirements. This could take a while.\n",
      "  Downloading praxis-0.2.1-py3-none-any.whl.metadata (840 bytes)\n",
      "Collecting fiddle==0.2.5 (from praxis)\n",
      "  Downloading fiddle-0.2.5-py3-none-any.whl.metadata (2.0 kB)\n",
      "Collecting praxis\n",
      "  Downloading praxis-0.2.0-py3-none-any.whl.metadata (828 bytes)\n",
      "  Downloading praxis-0.1-1-py3-none-any.whl.metadata (823 bytes)\n",
      "Collecting fiddle-config (from praxis)\n",
      "  Downloading fiddle_config-0.2.2-py3-none-any.whl.metadata (2.0 kB)\n",
      "\u001b[31mERROR: Cannot install praxis==0.1, praxis==0.2.0, praxis==0.2.1, praxis==0.3.0, praxis==0.4.0, praxis==1.0.0, praxis==1.1.0, praxis==1.2.0, praxis==1.3.0, praxis==1.3.1 and praxis==1.4.0 because these package versions have conflicting dependencies.\u001b[0m\u001b[31m\n",
      "\u001b[0m\n",
      "The conflict is caused by:\n",
      "    praxis 1.4.0 depends on lingvo==0.12.7\n",
      "    praxis 1.3.1 depends on lingvo\n",
      "    praxis 1.3.0 depends on lingvo\n",
      "    praxis 1.2.0 depends on lingvo\n",
      "    praxis 1.1.0 depends on lingvo==0.12.7\n",
      "    praxis 1.0.0 depends on lingvo==0.12.6\n",
      "    praxis 0.4.0 depends on lingvo\n",
      "    praxis 0.3.0 depends on lingvo\n",
      "    praxis 0.2.1 depends on lingvo\n",
      "    praxis 0.2.0 depends on lingvo\n",
      "    praxis 0.1 depends on lingvo\n",
      "\n",
      "To fix this you could try to:\n",
      "1. loosen the range of package versions you've specified\n",
      "2. remove package versions to allow pip to attempt to solve the dependency conflict\n",
      "\n",
      "\u001b[31mERROR: ResolutionImpossible: for help visit https://pip.pypa.io/en/latest/topics/dependency-resolution/#dealing-with-dependency-conflicts\u001b[0m\u001b[31m\n",
      "\u001b[0mCollecting paxml\n",
      "  Downloading paxml-1.4.0-py3-none-any.whl.metadata (1.3 kB)\n",
      "Requirement already satisfied: absl-py==1.4.0 in /usr/local/lib/python3.11/dist-packages (from paxml) (1.4.0)\n",
      "Collecting clu==0.0.11 (from paxml)\n",
      "  Using cached clu-0.0.11-py3-none-any.whl.metadata (1.9 kB)\n",
      "Collecting etils==1.7.0 (from paxml)\n",
      "  Using cached etils-1.7.0-py3-none-any.whl.metadata (6.4 kB)\n",
      "Collecting flax==0.8.2 (from paxml)\n",
      "  Using cached flax-0.8.2-py3-none-any.whl.metadata (10 kB)\n",
      "Collecting graphviz==0.20.1 (from paxml)\n",
      "  Downloading graphviz-0.20.1-py3-none-any.whl.metadata (12 kB)\n",
      "Collecting jax==0.4.26 (from paxml)\n",
      "  Using cached jax-0.4.26-py3-none-any.whl.metadata (23 kB)\n",
      "INFO: pip is looking at multiple versions of paxml to determine which version is compatible with other requirements. This could take a while.\n",
      "Collecting paxml\n",
      "  Downloading paxml-1.3.1-py3-none-any.whl.metadata (1.2 kB)\n",
      "Collecting clu (from paxml)\n",
      "  Using cached clu-0.0.12-py3-none-any.whl.metadata (1.9 kB)\n",
      "Requirement already satisfied: etils in /usr/local/lib/python3.11/dist-packages (from paxml) (1.12.2)\n",
      "Requirement already satisfied: flax in /usr/local/lib/python3.11/dist-packages (from paxml) (0.10.6)\n",
      "Requirement already satisfied: graphviz in /usr/local/lib/python3.11/dist-packages (from paxml) (0.20.3)\n",
      "Requirement already satisfied: jax in /usr/local/lib/python3.11/dist-packages (from paxml) (0.5.2)\n",
      "Collecting paxml\n",
      "  Downloading paxml-1.3.0-py3-none-any.whl.metadata (1.2 kB)\n",
      "  Downloading paxml-1.2.0-py3-none-any.whl.metadata (1.2 kB)\n",
      "Collecting jax==0.4.18 (from paxml)\n",
      "  Using cached jax-0.4.18-py3-none-any.whl.metadata (23 kB)\n",
      "Collecting paxml\n",
      "  Downloading paxml-1.1.0-py3-none-any.whl.metadata (1.3 kB)\n",
      "Collecting clu==0.0.9 (from paxml)\n",
      "  Using cached clu-0.0.9-py3-none-any.whl.metadata (2.0 kB)\n",
      "Collecting etils==1.4.1 (from etils[enp,epath,epy]==1.4.1->paxml)\n",
      "  Using cached etils-1.4.1-py3-none-any.whl.metadata (5.9 kB)\n",
      "Collecting flax==0.7.2 (from paxml)\n",
      "  Using cached flax-0.7.2-py3-none-any.whl.metadata (10.0 kB)\n",
      "Collecting jax==0.4.14 (from paxml)\n",
      "  Using cached jax-0.4.14.tar.gz (1.3 MB)\n",
      "  Installing build dependencies ... \u001b[?25l\u001b[?25hdone\n",
      "  Getting requirements to build wheel ... \u001b[?25l\u001b[?25hdone\n",
      "  Preparing metadata (pyproject.toml) ... \u001b[?25l\u001b[?25hdone\n",
      "Collecting paxml\n",
      "  Downloading paxml-1.0.0-2-py3-none-any.whl.metadata (1.3 kB)\n",
      "Collecting clu==0.0.8 (from paxml)\n",
      "  Using cached clu-0.0.8-py3-none-any.whl.metadata (2.0 kB)\n",
      "Collecting etils==1.1.1 (from paxml)\n",
      "  Downloading etils-1.1.1-py3-none-any.whl.metadata (5.5 kB)\n",
      "Collecting flax==0.6.8 (from paxml)\n",
      "  Using cached flax-0.6.8-py3-none-any.whl.metadata (9.9 kB)\n",
      "Collecting jax==0.4.7 (from paxml)\n",
      "  Using cached jax-0.4.7.tar.gz (1.2 MB)\n",
      "  Preparing metadata (setup.py) ... \u001b[?25l\u001b[?25hdone\n",
      "Collecting paxml\n",
      "  Downloading paxml-0.4.0-1-py3-none-any.whl.metadata (1.3 kB)\n",
      "  Downloading paxml-0.3.0-py3-none-any.whl.metadata (838 bytes)\n",
      "INFO: pip is still looking at multiple versions of paxml to determine which version is compatible with other requirements. This could take a while.\n",
      "  Downloading paxml-0.2.1-py3-none-any.whl.metadata (846 bytes)\n",
      "  Downloading paxml-0.2.0-py3-none-any.whl.metadata (811 bytes)\n",
      "  Downloading paxml-0.1-py3-none-any.whl.metadata (817 bytes)\n",
      "\u001b[31mERROR: Cannot install paxml==0.1, paxml==0.2.0, paxml==0.2.1, paxml==0.3.0, paxml==0.4.0, paxml==1.0.0, paxml==1.1.0, paxml==1.2.0, paxml==1.3.0, paxml==1.3.1 and paxml==1.4.0 because these package versions have conflicting dependencies.\u001b[0m\u001b[31m\n",
      "\u001b[0m\n",
      "The conflict is caused by:\n",
      "    paxml 1.4.0 depends on lingvo==0.12.7\n",
      "    paxml 1.3.1 depends on lingvo\n",
      "    paxml 1.3.0 depends on lingvo\n",
      "    paxml 1.2.0 depends on lingvo\n",
      "    paxml 1.1.0 depends on lingvo==0.12.7\n",
      "    paxml 1.0.0 depends on lingvo==0.12.6\n",
      "    paxml 0.4.0 depends on lingvo==0.12.6\n",
      "    paxml 0.3.0 depends on lingvo\n",
      "    paxml 0.2.1 depends on lingvo\n",
      "    paxml 0.2.0 depends on lingvo\n",
      "    paxml 0.1 depends on lingvo\n",
      "\n",
      "To fix this you could try to:\n",
      "1. loosen the range of package versions you've specified\n",
      "2. remove package versions to allow pip to attempt to solve the dependency conflict\n",
      "\n",
      "\u001b[31mERROR: ResolutionImpossible: for help visit https://pip.pypa.io/en/latest/topics/dependency-resolution/#dealing-with-dependency-conflicts\u001b[0m\u001b[31m\n",
      "\u001b[0mCollecting jax==0.4.26 (from jax[cuda12]==0.4.26)\n",
      "  Using cached jax-0.4.26-py3-none-any.whl.metadata (23 kB)\n",
      "Requirement already satisfied: ml-dtypes>=0.2.0 in /usr/local/lib/python3.11/dist-packages (from jax==0.4.26->jax[cuda12]==0.4.26) (0.4.1)\n",
      "Requirement already satisfied: numpy>=1.22 in /usr/local/lib/python3.11/dist-packages (from jax==0.4.26->jax[cuda12]==0.4.26) (2.0.2)\n",
      "Requirement already satisfied: opt-einsum in /usr/local/lib/python3.11/dist-packages (from jax==0.4.26->jax[cuda12]==0.4.26) (3.4.0)\n",
      "Requirement already satisfied: scipy>=1.9 in /usr/local/lib/python3.11/dist-packages (from jax==0.4.26->jax[cuda12]==0.4.26) (1.15.3)\n",
      "Collecting jaxlib==0.4.26 (from jax[cuda12]==0.4.26)\n",
      "  Downloading jaxlib-0.4.26-cp311-cp311-manylinux2014_x86_64.whl.metadata (1.8 kB)\n",
      "Collecting jax-cuda12-plugin==0.4.26 (from jax[cuda12]==0.4.26)\n",
      "  Downloading jax_cuda12_plugin-0.4.26-cp311-cp311-manylinux2014_x86_64.whl.metadata (560 bytes)\n",
      "Requirement already satisfied: nvidia-cublas-cu12>=12.1.3.1 in /usr/local/lib/python3.11/dist-packages (from jax[cuda12]==0.4.26) (12.5.3.2)\n",
      "Requirement already satisfied: nvidia-cuda-cupti-cu12>=12.1.105 in /usr/local/lib/python3.11/dist-packages (from jax[cuda12]==0.4.26) (12.5.82)\n",
      "Requirement already satisfied: nvidia-cuda-nvcc-cu12>=12.1.105 in /usr/local/lib/python3.11/dist-packages (from jax[cuda12]==0.4.26) (12.5.82)\n",
      "Requirement already satisfied: nvidia-cuda-runtime-cu12>=12.1.105 in /usr/local/lib/python3.11/dist-packages (from jax[cuda12]==0.4.26) (12.5.82)\n",
      "Collecting nvidia-cudnn-cu12<9.0,>=8.9.2.26 (from jax[cuda12]==0.4.26)\n",
      "  Downloading nvidia_cudnn_cu12-8.9.7.29-py3-none-manylinux1_x86_64.whl.metadata (1.6 kB)\n",
      "Requirement already satisfied: nvidia-cufft-cu12>=11.0.2.54 in /usr/local/lib/python3.11/dist-packages (from jax[cuda12]==0.4.26) (11.2.3.61)\n",
      "Requirement already satisfied: nvidia-cusolver-cu12>=11.4.5.107 in /usr/local/lib/python3.11/dist-packages (from jax[cuda12]==0.4.26) (11.6.3.83)\n",
      "Requirement already satisfied: nvidia-cusparse-cu12>=12.1.0.106 in /usr/local/lib/python3.11/dist-packages (from jax[cuda12]==0.4.26) (12.5.1.3)\n",
      "Requirement already satisfied: nvidia-nccl-cu12>=2.18.1 in /usr/local/lib/python3.11/dist-packages (from jax[cuda12]==0.4.26) (2.21.5)\n",
      "Requirement already satisfied: nvidia-nvjitlink-cu12>=12.1.105 in /usr/local/lib/python3.11/dist-packages (from jax[cuda12]==0.4.26) (12.5.82)\n",
      "Collecting jax-cuda12-pjrt==0.4.26 (from jax-cuda12-plugin==0.4.26->jax[cuda12]==0.4.26)\n",
      "  Downloading jax_cuda12_pjrt-0.4.26-py3-none-manylinux2014_x86_64.whl.metadata (349 bytes)\n",
      "Requirement already satisfied: nvidia-cuda-nvrtc-cu12 in /usr/local/lib/python3.11/dist-packages (from nvidia-cudnn-cu12<9.0,>=8.9.2.26->jax[cuda12]==0.4.26) (12.5.82)\n",
      "Downloading jax-0.4.26-py3-none-any.whl (1.9 MB)\n",
      "\u001b[2K   \u001b[90m━━━━━━━━━━━━━━━━━━━━━━━━━━━━━━━━━━━━━━━━\u001b[0m \u001b[32m1.9/1.9 MB\u001b[0m \u001b[31m26.9 MB/s\u001b[0m eta \u001b[36m0:00:00\u001b[0m\n",
      "\u001b[?25hDownloading jax_cuda12_plugin-0.4.26-cp311-cp311-manylinux2014_x86_64.whl (12.4 MB)\n",
      "\u001b[2K   \u001b[90m━━━━━━━━━━━━━━━━━━━━━━━━━━━━━━━━━━━━━━━━\u001b[0m \u001b[32m12.4/12.4 MB\u001b[0m \u001b[31m14.9 MB/s\u001b[0m eta \u001b[36m0:00:00\u001b[0m\n",
      "\u001b[?25hDownloading jaxlib-0.4.26-cp311-cp311-manylinux2014_x86_64.whl (78.8 MB)\n",
      "\u001b[2K   \u001b[90m━━━━━━━━━━━━━━━━━━━━━━━━━━━━━━━━━━━━━━━━\u001b[0m \u001b[32m78.8/78.8 MB\u001b[0m \u001b[31m10.0 MB/s\u001b[0m eta \u001b[36m0:00:00\u001b[0m\n",
      "\u001b[?25hDownloading jax_cuda12_pjrt-0.4.26-py3-none-manylinux2014_x86_64.whl (85.7 MB)\n",
      "\u001b[2K   \u001b[90m━━━━━━━━━━━━━━━━━━━━━━━━━━━━━━━━━━━━━━━━\u001b[0m \u001b[32m85.7/85.7 MB\u001b[0m \u001b[31m9.1 MB/s\u001b[0m eta \u001b[36m0:00:00\u001b[0m\n",
      "\u001b[?25hDownloading nvidia_cudnn_cu12-8.9.7.29-py3-none-manylinux1_x86_64.whl (704.7 MB)\n",
      "\u001b[2K   \u001b[90m━━━━━━━━━━━━━━━━━━━━━━━━━━━━━━━━━━━━━━━━\u001b[0m \u001b[32m704.7/704.7 MB\u001b[0m \u001b[31m2.1 MB/s\u001b[0m eta \u001b[36m0:00:00\u001b[0m\n",
      "\u001b[?25hInstalling collected packages: jax-cuda12-pjrt, nvidia-cudnn-cu12, jax-cuda12-plugin, jaxlib, jax\n",
      "  Attempting uninstall: jax-cuda12-pjrt\n",
      "    Found existing installation: jax-cuda12-pjrt 0.5.1\n",
      "    Uninstalling jax-cuda12-pjrt-0.5.1:\n",
      "      Successfully uninstalled jax-cuda12-pjrt-0.5.1\n",
      "  Attempting uninstall: nvidia-cudnn-cu12\n",
      "    Found existing installation: nvidia-cudnn-cu12 9.3.0.75\n",
      "    Uninstalling nvidia-cudnn-cu12-9.3.0.75:\n",
      "      Successfully uninstalled nvidia-cudnn-cu12-9.3.0.75\n",
      "  Attempting uninstall: jax-cuda12-plugin\n",
      "    Found existing installation: jax-cuda12-plugin 0.5.1\n",
      "    Uninstalling jax-cuda12-plugin-0.5.1:\n",
      "      Successfully uninstalled jax-cuda12-plugin-0.5.1\n",
      "  Attempting uninstall: jaxlib\n",
      "    Found existing installation: jaxlib 0.5.1\n",
      "    Uninstalling jaxlib-0.5.1:\n",
      "      Successfully uninstalled jaxlib-0.5.1\n",
      "  Attempting uninstall: jax\n",
      "    Found existing installation: jax 0.5.2\n",
      "    Uninstalling jax-0.5.2:\n",
      "      Successfully uninstalled jax-0.5.2\n",
      "\u001b[31mERROR: pip's dependency resolver does not currently take into account all the packages that are installed. This behaviour is the source of the following dependency conflicts.\n",
      "flax 0.10.6 requires jax>=0.5.1, but you have jax 0.4.26 which is incompatible.\n",
      "torch 2.6.0+cu124 requires nvidia-cublas-cu12==12.4.5.8; platform_system == \"Linux\" and platform_machine == \"x86_64\", but you have nvidia-cublas-cu12 12.5.3.2 which is incompatible.\n",
      "torch 2.6.0+cu124 requires nvidia-cuda-cupti-cu12==12.4.127; platform_system == \"Linux\" and platform_machine == \"x86_64\", but you have nvidia-cuda-cupti-cu12 12.5.82 which is incompatible.\n",
      "torch 2.6.0+cu124 requires nvidia-cuda-nvrtc-cu12==12.4.127; platform_system == \"Linux\" and platform_machine == \"x86_64\", but you have nvidia-cuda-nvrtc-cu12 12.5.82 which is incompatible.\n",
      "torch 2.6.0+cu124 requires nvidia-cuda-runtime-cu12==12.4.127; platform_system == \"Linux\" and platform_machine == \"x86_64\", but you have nvidia-cuda-runtime-cu12 12.5.82 which is incompatible.\n",
      "torch 2.6.0+cu124 requires nvidia-cudnn-cu12==9.1.0.70; platform_system == \"Linux\" and platform_machine == \"x86_64\", but you have nvidia-cudnn-cu12 8.9.7.29 which is incompatible.\n",
      "torch 2.6.0+cu124 requires nvidia-cufft-cu12==11.2.1.3; platform_system == \"Linux\" and platform_machine == \"x86_64\", but you have nvidia-cufft-cu12 11.2.3.61 which is incompatible.\n",
      "torch 2.6.0+cu124 requires nvidia-curand-cu12==10.3.5.147; platform_system == \"Linux\" and platform_machine == \"x86_64\", but you have nvidia-curand-cu12 10.3.6.82 which is incompatible.\n",
      "torch 2.6.0+cu124 requires nvidia-cusolver-cu12==11.6.1.9; platform_system == \"Linux\" and platform_machine == \"x86_64\", but you have nvidia-cusolver-cu12 11.6.3.83 which is incompatible.\n",
      "torch 2.6.0+cu124 requires nvidia-cusparse-cu12==12.3.1.170; platform_system == \"Linux\" and platform_machine == \"x86_64\", but you have nvidia-cusparse-cu12 12.5.1.3 which is incompatible.\n",
      "torch 2.6.0+cu124 requires nvidia-nvjitlink-cu12==12.4.127; platform_system == \"Linux\" and platform_machine == \"x86_64\", but you have nvidia-nvjitlink-cu12 12.5.82 which is incompatible.\n",
      "optax 0.2.4 requires jax>=0.4.27, but you have jax 0.4.26 which is incompatible.\n",
      "optax 0.2.4 requires jaxlib>=0.4.27, but you have jaxlib 0.4.26 which is incompatible.\n",
      "orbax-checkpoint 0.11.13 requires jax>=0.5.0, but you have jax 0.4.26 which is incompatible.\n",
      "chex 0.1.89 requires jax>=0.4.27, but you have jax 0.4.26 which is incompatible.\n",
      "chex 0.1.89 requires jaxlib>=0.4.27, but you have jaxlib 0.4.26 which is incompatible.\u001b[0m\u001b[31m\n",
      "\u001b[0mSuccessfully installed jax-0.4.26 jax-cuda12-pjrt-0.4.26 jax-cuda12-plugin-0.4.26 jaxlib-0.4.26 nvidia-cudnn-cu12-8.9.7.29\n",
      "Collecting einshape\n",
      "  Downloading einshape-1.0-py3-none-any.whl.metadata (706 bytes)\n",
      "Requirement already satisfied: absl-py in /usr/local/lib/python3.11/dist-packages (from einshape) (1.4.0)\n",
      "Requirement already satisfied: numpy in /usr/local/lib/python3.11/dist-packages (from einshape) (2.0.2)\n",
      "Downloading einshape-1.0-py3-none-any.whl (21 kB)\n",
      "Installing collected packages: einshape\n",
      "Successfully installed einshape-1.0\n",
      "Collecting timesfm[pax]\n",
      "  Downloading timesfm-1.2.9-py3-none-any.whl.metadata (14 kB)\n",
      "Requirement already satisfied: absl-py>=1.4.0 in /usr/local/lib/python3.11/dist-packages (from timesfm[pax]) (1.4.0)\n",
      "Requirement already satisfied: einshape>=1.0.0 in /usr/local/lib/python3.11/dist-packages (from timesfm[pax]) (1.0)\n",
      "Requirement already satisfied: huggingface_hub>=0.23.0 in /usr/local/lib/python3.11/dist-packages (from huggingface_hub[cli]>=0.23.0->timesfm[pax]) (0.32.4)\n",
      "Requirement already satisfied: jax>=0.4.26 in /usr/local/lib/python3.11/dist-packages (from jax[cuda12]>=0.4.26; (python_version >= \"3.10\" and python_version < \"3.12\") and (extra == \"pax\" or extra == \"torch\")->timesfm[pax]) (0.4.26)\n",
      "Requirement already satisfied: jaxlib>=0.4.26 in /usr/local/lib/python3.11/dist-packages (from timesfm[pax]) (0.4.26)\n",
      "Requirement already satisfied: numpy>=1.26.4 in /usr/local/lib/python3.11/dist-packages (from timesfm[pax]) (2.0.2)\n",
      "Requirement already satisfied: pandas>=2.0.0 in /usr/local/lib/python3.11/dist-packages (from timesfm[pax]) (2.2.2)\n",
      "Requirement already satisfied: scikit-learn>=1.2.2 in /usr/local/lib/python3.11/dist-packages (from timesfm[pax]) (1.6.1)\n",
      "Requirement already satisfied: typer>=0.12.3 in /usr/local/lib/python3.11/dist-packages (from timesfm[pax]) (0.16.0)\n",
      "Requirement already satisfied: utilsforecast>=0.1.10 in /usr/local/lib/python3.11/dist-packages (from timesfm[pax]) (0.2.12)\n",
      "Requirement already satisfied: wandb>=0.17.5 in /usr/local/lib/python3.11/dist-packages (from timesfm[pax]) (0.19.11)\n",
      "Requirement already satisfied: filelock in /usr/local/lib/python3.11/dist-packages (from huggingface_hub>=0.23.0->huggingface_hub[cli]>=0.23.0->timesfm[pax]) (3.18.0)\n",
      "Requirement already satisfied: fsspec>=2023.5.0 in /usr/local/lib/python3.11/dist-packages (from huggingface_hub>=0.23.0->huggingface_hub[cli]>=0.23.0->timesfm[pax]) (2025.3.2)\n",
      "Requirement already satisfied: packaging>=20.9 in /usr/local/lib/python3.11/dist-packages (from huggingface_hub>=0.23.0->huggingface_hub[cli]>=0.23.0->timesfm[pax]) (24.2)\n",
      "Requirement already satisfied: pyyaml>=5.1 in /usr/local/lib/python3.11/dist-packages (from huggingface_hub>=0.23.0->huggingface_hub[cli]>=0.23.0->timesfm[pax]) (6.0.2)\n",
      "Requirement already satisfied: requests in /usr/local/lib/python3.11/dist-packages (from huggingface_hub>=0.23.0->huggingface_hub[cli]>=0.23.0->timesfm[pax]) (2.32.3)\n",
      "Requirement already satisfied: tqdm>=4.42.1 in /usr/local/lib/python3.11/dist-packages (from huggingface_hub>=0.23.0->huggingface_hub[cli]>=0.23.0->timesfm[pax]) (4.67.1)\n",
      "Requirement already satisfied: typing-extensions>=3.7.4.3 in /usr/local/lib/python3.11/dist-packages (from huggingface_hub>=0.23.0->huggingface_hub[cli]>=0.23.0->timesfm[pax]) (4.14.0)\n",
      "Requirement already satisfied: hf-xet<2.0.0,>=1.1.2 in /usr/local/lib/python3.11/dist-packages (from huggingface_hub>=0.23.0->huggingface_hub[cli]>=0.23.0->timesfm[pax]) (1.1.2)\n",
      "Collecting InquirerPy==0.3.4 (from huggingface_hub[cli]>=0.23.0->timesfm[pax])\n",
      "  Downloading InquirerPy-0.3.4-py3-none-any.whl.metadata (8.1 kB)\n",
      "Collecting pfzy<0.4.0,>=0.3.1 (from InquirerPy==0.3.4->huggingface_hub[cli]>=0.23.0->timesfm[pax])\n",
      "  Downloading pfzy-0.3.4-py3-none-any.whl.metadata (4.9 kB)\n",
      "Requirement already satisfied: prompt-toolkit<4.0.0,>=3.0.1 in /usr/local/lib/python3.11/dist-packages (from InquirerPy==0.3.4->huggingface_hub[cli]>=0.23.0->timesfm[pax]) (3.0.51)\n",
      "Requirement already satisfied: ml-dtypes>=0.2.0 in /usr/local/lib/python3.11/dist-packages (from jax>=0.4.26->jax[cuda12]>=0.4.26; (python_version >= \"3.10\" and python_version < \"3.12\") and (extra == \"pax\" or extra == \"torch\")->timesfm[pax]) (0.4.1)\n",
      "Requirement already satisfied: opt-einsum in /usr/local/lib/python3.11/dist-packages (from jax>=0.4.26->jax[cuda12]>=0.4.26; (python_version >= \"3.10\" and python_version < \"3.12\") and (extra == \"pax\" or extra == \"torch\")->timesfm[pax]) (3.4.0)\n",
      "Requirement already satisfied: scipy>=1.9 in /usr/local/lib/python3.11/dist-packages (from jax>=0.4.26->jax[cuda12]>=0.4.26; (python_version >= \"3.10\" and python_version < \"3.12\") and (extra == \"pax\" or extra == \"torch\")->timesfm[pax]) (1.15.3)\n",
      "Requirement already satisfied: jax-cuda12-plugin==0.4.26 in /usr/local/lib/python3.11/dist-packages (from jax[cuda12]>=0.4.26; (python_version >= \"3.10\" and python_version < \"3.12\") and (extra == \"pax\" or extra == \"torch\")->timesfm[pax]) (0.4.26)\n",
      "Requirement already satisfied: nvidia-cublas-cu12>=12.1.3.1 in /usr/local/lib/python3.11/dist-packages (from jax[cuda12]>=0.4.26; (python_version >= \"3.10\" and python_version < \"3.12\") and (extra == \"pax\" or extra == \"torch\")->timesfm[pax]) (12.5.3.2)\n",
      "Requirement already satisfied: nvidia-cuda-cupti-cu12>=12.1.105 in /usr/local/lib/python3.11/dist-packages (from jax[cuda12]>=0.4.26; (python_version >= \"3.10\" and python_version < \"3.12\") and (extra == \"pax\" or extra == \"torch\")->timesfm[pax]) (12.5.82)\n",
      "Requirement already satisfied: nvidia-cuda-nvcc-cu12>=12.1.105 in /usr/local/lib/python3.11/dist-packages (from jax[cuda12]>=0.4.26; (python_version >= \"3.10\" and python_version < \"3.12\") and (extra == \"pax\" or extra == \"torch\")->timesfm[pax]) (12.5.82)\n",
      "Requirement already satisfied: nvidia-cuda-runtime-cu12>=12.1.105 in /usr/local/lib/python3.11/dist-packages (from jax[cuda12]>=0.4.26; (python_version >= \"3.10\" and python_version < \"3.12\") and (extra == \"pax\" or extra == \"torch\")->timesfm[pax]) (12.5.82)\n",
      "Requirement already satisfied: nvidia-cudnn-cu12<9.0,>=8.9.2.26 in /usr/local/lib/python3.11/dist-packages (from jax[cuda12]>=0.4.26; (python_version >= \"3.10\" and python_version < \"3.12\") and (extra == \"pax\" or extra == \"torch\")->timesfm[pax]) (8.9.7.29)\n",
      "Requirement already satisfied: nvidia-cufft-cu12>=11.0.2.54 in /usr/local/lib/python3.11/dist-packages (from jax[cuda12]>=0.4.26; (python_version >= \"3.10\" and python_version < \"3.12\") and (extra == \"pax\" or extra == \"torch\")->timesfm[pax]) (11.2.3.61)\n",
      "Requirement already satisfied: nvidia-cusolver-cu12>=11.4.5.107 in /usr/local/lib/python3.11/dist-packages (from jax[cuda12]>=0.4.26; (python_version >= \"3.10\" and python_version < \"3.12\") and (extra == \"pax\" or extra == \"torch\")->timesfm[pax]) (11.6.3.83)\n",
      "Requirement already satisfied: nvidia-cusparse-cu12>=12.1.0.106 in /usr/local/lib/python3.11/dist-packages (from jax[cuda12]>=0.4.26; (python_version >= \"3.10\" and python_version < \"3.12\") and (extra == \"pax\" or extra == \"torch\")->timesfm[pax]) (12.5.1.3)\n",
      "Requirement already satisfied: nvidia-nccl-cu12>=2.18.1 in /usr/local/lib/python3.11/dist-packages (from jax[cuda12]>=0.4.26; (python_version >= \"3.10\" and python_version < \"3.12\") and (extra == \"pax\" or extra == \"torch\")->timesfm[pax]) (2.21.5)\n",
      "Requirement already satisfied: nvidia-nvjitlink-cu12>=12.1.105 in /usr/local/lib/python3.11/dist-packages (from jax[cuda12]>=0.4.26; (python_version >= \"3.10\" and python_version < \"3.12\") and (extra == \"pax\" or extra == \"torch\")->timesfm[pax]) (12.5.82)\n",
      "Requirement already satisfied: jax-cuda12-pjrt==0.4.26 in /usr/local/lib/python3.11/dist-packages (from jax-cuda12-plugin==0.4.26->jax[cuda12]>=0.4.26; (python_version >= \"3.10\" and python_version < \"3.12\") and (extra == \"pax\" or extra == \"torch\")->timesfm[pax]) (0.4.26)\n",
      "Requirement already satisfied: python-dateutil>=2.8.2 in /usr/local/lib/python3.11/dist-packages (from pandas>=2.0.0->timesfm[pax]) (2.9.0.post0)\n",
      "Requirement already satisfied: pytz>=2020.1 in /usr/local/lib/python3.11/dist-packages (from pandas>=2.0.0->timesfm[pax]) (2025.2)\n",
      "Requirement already satisfied: tzdata>=2022.7 in /usr/local/lib/python3.11/dist-packages (from pandas>=2.0.0->timesfm[pax]) (2025.2)\n",
      "Requirement already satisfied: joblib>=1.2.0 in /usr/local/lib/python3.11/dist-packages (from scikit-learn>=1.2.2->timesfm[pax]) (1.5.1)\n",
      "Requirement already satisfied: threadpoolctl>=3.1.0 in /usr/local/lib/python3.11/dist-packages (from scikit-learn>=1.2.2->timesfm[pax]) (3.6.0)\n",
      "Requirement already satisfied: click>=8.0.0 in /usr/local/lib/python3.11/dist-packages (from typer>=0.12.3->timesfm[pax]) (8.2.1)\n",
      "Requirement already satisfied: shellingham>=1.3.0 in /usr/local/lib/python3.11/dist-packages (from typer>=0.12.3->timesfm[pax]) (1.5.4)\n",
      "Requirement already satisfied: rich>=10.11.0 in /usr/local/lib/python3.11/dist-packages (from typer>=0.12.3->timesfm[pax]) (13.9.4)\n",
      "Requirement already satisfied: docker-pycreds>=0.4.0 in /usr/local/lib/python3.11/dist-packages (from wandb>=0.17.5->timesfm[pax]) (0.4.0)\n",
      "Requirement already satisfied: gitpython!=3.1.29,>=1.0.0 in /usr/local/lib/python3.11/dist-packages (from wandb>=0.17.5->timesfm[pax]) (3.1.44)\n",
      "Requirement already satisfied: platformdirs in /usr/local/lib/python3.11/dist-packages (from wandb>=0.17.5->timesfm[pax]) (4.3.8)\n",
      "Requirement already satisfied: protobuf!=4.21.0,!=5.28.0,<7,>=3.19.0 in /usr/local/lib/python3.11/dist-packages (from wandb>=0.17.5->timesfm[pax]) (5.29.5)\n",
      "Requirement already satisfied: psutil>=5.0.0 in /usr/local/lib/python3.11/dist-packages (from wandb>=0.17.5->timesfm[pax]) (5.9.5)\n",
      "Requirement already satisfied: pydantic<3 in /usr/local/lib/python3.11/dist-packages (from wandb>=0.17.5->timesfm[pax]) (2.11.5)\n",
      "Requirement already satisfied: sentry-sdk>=2.0.0 in /usr/local/lib/python3.11/dist-packages (from wandb>=0.17.5->timesfm[pax]) (2.29.1)\n",
      "Requirement already satisfied: setproctitle in /usr/local/lib/python3.11/dist-packages (from wandb>=0.17.5->timesfm[pax]) (1.3.6)\n",
      "Requirement already satisfied: setuptools in /usr/local/lib/python3.11/dist-packages (from wandb>=0.17.5->timesfm[pax]) (75.2.0)\n",
      "Requirement already satisfied: six>=1.4.0 in /usr/local/lib/python3.11/dist-packages (from docker-pycreds>=0.4.0->wandb>=0.17.5->timesfm[pax]) (1.17.0)\n",
      "Requirement already satisfied: gitdb<5,>=4.0.1 in /usr/local/lib/python3.11/dist-packages (from gitpython!=3.1.29,>=1.0.0->wandb>=0.17.5->timesfm[pax]) (4.0.12)\n",
      "Requirement already satisfied: nvidia-cuda-nvrtc-cu12 in /usr/local/lib/python3.11/dist-packages (from nvidia-cudnn-cu12<9.0,>=8.9.2.26->jax[cuda12]>=0.4.26; (python_version >= \"3.10\" and python_version < \"3.12\") and (extra == \"pax\" or extra == \"torch\")->timesfm[pax]) (12.5.82)\n",
      "Requirement already satisfied: annotated-types>=0.6.0 in /usr/local/lib/python3.11/dist-packages (from pydantic<3->wandb>=0.17.5->timesfm[pax]) (0.7.0)\n",
      "Requirement already satisfied: pydantic-core==2.33.2 in /usr/local/lib/python3.11/dist-packages (from pydantic<3->wandb>=0.17.5->timesfm[pax]) (2.33.2)\n",
      "Requirement already satisfied: typing-inspection>=0.4.0 in /usr/local/lib/python3.11/dist-packages (from pydantic<3->wandb>=0.17.5->timesfm[pax]) (0.4.1)\n",
      "Requirement already satisfied: charset-normalizer<4,>=2 in /usr/local/lib/python3.11/dist-packages (from requests->huggingface_hub>=0.23.0->huggingface_hub[cli]>=0.23.0->timesfm[pax]) (3.4.2)\n",
      "Requirement already satisfied: idna<4,>=2.5 in /usr/local/lib/python3.11/dist-packages (from requests->huggingface_hub>=0.23.0->huggingface_hub[cli]>=0.23.0->timesfm[pax]) (3.10)\n",
      "Requirement already satisfied: urllib3<3,>=1.21.1 in /usr/local/lib/python3.11/dist-packages (from requests->huggingface_hub>=0.23.0->huggingface_hub[cli]>=0.23.0->timesfm[pax]) (2.4.0)\n",
      "Requirement already satisfied: certifi>=2017.4.17 in /usr/local/lib/python3.11/dist-packages (from requests->huggingface_hub>=0.23.0->huggingface_hub[cli]>=0.23.0->timesfm[pax]) (2025.4.26)\n",
      "Requirement already satisfied: markdown-it-py>=2.2.0 in /usr/local/lib/python3.11/dist-packages (from rich>=10.11.0->typer>=0.12.3->timesfm[pax]) (3.0.0)\n",
      "Requirement already satisfied: pygments<3.0.0,>=2.13.0 in /usr/local/lib/python3.11/dist-packages (from rich>=10.11.0->typer>=0.12.3->timesfm[pax]) (2.19.1)\n",
      "Requirement already satisfied: smmap<6,>=3.0.1 in /usr/local/lib/python3.11/dist-packages (from gitdb<5,>=4.0.1->gitpython!=3.1.29,>=1.0.0->wandb>=0.17.5->timesfm[pax]) (5.0.2)\n",
      "Requirement already satisfied: mdurl~=0.1 in /usr/local/lib/python3.11/dist-packages (from markdown-it-py>=2.2.0->rich>=10.11.0->typer>=0.12.3->timesfm[pax]) (0.1.2)\n",
      "Requirement already satisfied: wcwidth in /usr/local/lib/python3.11/dist-packages (from prompt-toolkit<4.0.0,>=3.0.1->InquirerPy==0.3.4->huggingface_hub[cli]>=0.23.0->timesfm[pax]) (0.2.13)\n",
      "Downloading InquirerPy-0.3.4-py3-none-any.whl (67 kB)\n",
      "\u001b[2K   \u001b[90m━━━━━━━━━━━━━━━━━━━━━━━━━━━━━━━━━━━━━━━━\u001b[0m \u001b[32m67.7/67.7 kB\u001b[0m \u001b[31m3.7 MB/s\u001b[0m eta \u001b[36m0:00:00\u001b[0m\n",
      "\u001b[?25hDownloading timesfm-1.2.9-py3-none-any.whl (54 kB)\n",
      "\u001b[2K   \u001b[90m━━━━━━━━━━━━━━━━━━━━━━━━━━━━━━━━━━━━━━━━\u001b[0m \u001b[32m54.7/54.7 kB\u001b[0m \u001b[31m5.0 MB/s\u001b[0m eta \u001b[36m0:00:00\u001b[0m\n",
      "\u001b[?25hDownloading pfzy-0.3.4-py3-none-any.whl (8.5 kB)\n",
      "Installing collected packages: pfzy, InquirerPy, timesfm\n",
      "Successfully installed InquirerPy-0.3.4 pfzy-0.3.4 timesfm-1.2.9\n",
      "Collecting optuna\n",
      "  Downloading optuna-4.3.0-py3-none-any.whl.metadata (17 kB)\n",
      "Collecting alembic>=1.5.0 (from optuna)\n",
      "  Downloading alembic-1.16.1-py3-none-any.whl.metadata (7.3 kB)\n",
      "Collecting colorlog (from optuna)\n",
      "  Downloading colorlog-6.9.0-py3-none-any.whl.metadata (10 kB)\n",
      "Requirement already satisfied: numpy in /usr/local/lib/python3.11/dist-packages (from optuna) (2.0.2)\n",
      "Requirement already satisfied: packaging>=20.0 in /usr/local/lib/python3.11/dist-packages (from optuna) (24.2)\n",
      "Requirement already satisfied: sqlalchemy>=1.4.2 in /usr/local/lib/python3.11/dist-packages (from optuna) (2.0.41)\n",
      "Requirement already satisfied: tqdm in /usr/local/lib/python3.11/dist-packages (from optuna) (4.67.1)\n",
      "Requirement already satisfied: PyYAML in /usr/local/lib/python3.11/dist-packages (from optuna) (6.0.2)\n",
      "Requirement already satisfied: Mako in /usr/lib/python3/dist-packages (from alembic>=1.5.0->optuna) (1.1.3)\n",
      "Requirement already satisfied: typing-extensions>=4.12 in /usr/local/lib/python3.11/dist-packages (from alembic>=1.5.0->optuna) (4.14.0)\n",
      "Requirement already satisfied: greenlet>=1 in /usr/local/lib/python3.11/dist-packages (from sqlalchemy>=1.4.2->optuna) (3.2.2)\n",
      "Downloading optuna-4.3.0-py3-none-any.whl (386 kB)\n",
      "\u001b[2K   \u001b[90m━━━━━━━━━━━━━━━━━━━━━━━━━━━━━━━━━━━━━━━━\u001b[0m \u001b[32m386.6/386.6 kB\u001b[0m \u001b[31m11.4 MB/s\u001b[0m eta \u001b[36m0:00:00\u001b[0m\n",
      "\u001b[?25hDownloading alembic-1.16.1-py3-none-any.whl (242 kB)\n",
      "\u001b[2K   \u001b[90m━━━━━━━━━━━━━━━━━━━━━━━━━━━━━━━━━━━━━━━━\u001b[0m \u001b[32m242.5/242.5 kB\u001b[0m \u001b[31m21.0 MB/s\u001b[0m eta \u001b[36m0:00:00\u001b[0m\n",
      "\u001b[?25hDownloading colorlog-6.9.0-py3-none-any.whl (11 kB)\n",
      "Installing collected packages: colorlog, alembic, optuna\n",
      "Successfully installed alembic-1.16.1 colorlog-6.9.0 optuna-4.3.0\n"
     ]
    }
   ],
   "source": [
    "!pip install huggingface_hub(cli)\n",
    "!pip install utilsforecast\n",
    "!pip install praxis\n",
    "!pip install paxml\n",
    "!pip install jax[cuda12]==0.4.26\n",
    "!pip install einshape\n",
    "!pip install timesfm[pax]\n",
    "!pip install optuna"
   ]
  },
  {
   "cell_type": "code",
   "execution_count": 2,
   "metadata": {
    "colab": {
     "base_uri": "https://localhost:8080/"
    },
    "id": "Fqah_w6HbViN",
    "outputId": "c0a4baf9-f871-4416-aac1-e5748856bfed"
   },
   "outputs": [
    {
     "name": "stdout",
     "output_type": "stream",
     "text": [
      " See https://github.com/google-research/timesfm/blob/master/README.md for updated APIs.\n",
      "Loaded PyTorch TimesFM, likely because python version is 3.11.13 (main, Jun  4 2025, 08:57:29) [GCC 11.4.0].\n"
     ]
    }
   ],
   "source": [
    "import timesfm\n",
    "import pandas as pd\n",
    "import numpy as np\n",
    "from matplotlib import pyplot as plt\n",
    "import yfinance as yf\n",
    "from sklearn.metrics import mean_absolute_percentage_error\n",
    "import optuna"
   ]
  },
  {
   "cell_type": "markdown",
   "metadata": {
    "id": "8OdUq-T7QeL2"
   },
   "source": [
    "## Data loading and preparation"
   ]
  },
  {
   "cell_type": "code",
   "execution_count": 4,
   "metadata": {
    "colab": {
     "base_uri": "https://localhost:8080/",
     "height": 387
    },
    "id": "HbvNsQfATsgC",
    "outputId": "9d7790a3-1583-49c9-913c-825554f1e2d0"
   },
   "outputs": [
    {
     "name": "stderr",
     "output_type": "stream",
     "text": [
      "<ipython-input-4-ded6a7b282ed>:16: FutureWarning: A value is trying to be set on a copy of a DataFrame or Series through chained assignment using an inplace method.\n",
      "The behavior will change in pandas 3.0. This inplace method will never work because the intermediate object on which we are setting values always behaves as a copy.\n",
      "\n",
      "For example, when doing 'df[col].method(value, inplace=True)', try using 'df.method({col: value}, inplace=True)' or df[col] = df[col].method(value) instead, to perform the operation inplace on the original object.\n",
      "\n",
      "\n",
      "  df['Close'].fillna(method='ffill', inplace=True)\n",
      "<ipython-input-4-ded6a7b282ed>:16: FutureWarning: Series.fillna with 'method' is deprecated and will raise in a future version. Use obj.ffill() or obj.bfill() instead.\n",
      "  df['Close'].fillna(method='ffill', inplace=True)\n"
     ]
    },
    {
     "data": {
      "application/vnd.google.colaboratory.intrinsic+json": {
       "summary": "{\n  \"name\": \"df\",\n  \"rows\": 5,\n  \"fields\": [\n    {\n      \"column\": \"ds\",\n      \"properties\": {\n        \"dtype\": \"date\",\n        \"min\": \"2025-05-26 00:00:00-04:00\",\n        \"max\": \"2025-05-30 00:00:00-04:00\",\n        \"num_unique_values\": 5,\n        \"samples\": [\n          \"2025-05-27 00:00:00-04:00\",\n          \"2025-05-30 00:00:00-04:00\",\n          \"2025-05-28 00:00:00-04:00\"\n        ],\n        \"semantic_type\": \"\",\n        \"description\": \"\"\n      }\n    },\n    {\n      \"column\": \"y\",\n      \"properties\": {\n        \"dtype\": \"number\",\n        \"std\": 1.0381088887997623,\n        \"min\": 67.61000061035156,\n        \"max\": 70.13999938964844,\n        \"num_unique_values\": 5,\n        \"samples\": [\n          68.62000274658203,\n          70.13999938964844,\n          69.01000213623047\n        ],\n        \"semantic_type\": \"\",\n        \"description\": \"\"\n      }\n    },\n    {\n      \"column\": \"unique_id\",\n      \"properties\": {\n        \"dtype\": \"category\",\n        \"num_unique_values\": 1,\n        \"samples\": [\n          \"eqr\"\n        ],\n        \"semantic_type\": \"\",\n        \"description\": \"\"\n      }\n    }\n  ]\n}",
       "type": "dataframe"
      },
      "text/html": [
       "\n",
       "  <div id=\"df-be1c941d-2999-4389-9e32-022b931ed26c\" class=\"colab-df-container\">\n",
       "    <div>\n",
       "<style scoped>\n",
       "    .dataframe tbody tr th:only-of-type {\n",
       "        vertical-align: middle;\n",
       "    }\n",
       "\n",
       "    .dataframe tbody tr th {\n",
       "        vertical-align: top;\n",
       "    }\n",
       "\n",
       "    .dataframe thead th {\n",
       "        text-align: right;\n",
       "    }\n",
       "</style>\n",
       "<table border=\"1\" class=\"dataframe\">\n",
       "  <thead>\n",
       "    <tr style=\"text-align: right;\">\n",
       "      <th></th>\n",
       "      <th>ds</th>\n",
       "      <th>y</th>\n",
       "      <th>unique_id</th>\n",
       "    </tr>\n",
       "  </thead>\n",
       "  <tbody>\n",
       "    <tr>\n",
       "      <th>11610</th>\n",
       "      <td>2025-05-26 00:00:00-04:00</td>\n",
       "      <td>67.610001</td>\n",
       "      <td>eqr</td>\n",
       "    </tr>\n",
       "    <tr>\n",
       "      <th>11611</th>\n",
       "      <td>2025-05-27 00:00:00-04:00</td>\n",
       "      <td>68.620003</td>\n",
       "      <td>eqr</td>\n",
       "    </tr>\n",
       "    <tr>\n",
       "      <th>11612</th>\n",
       "      <td>2025-05-28 00:00:00-04:00</td>\n",
       "      <td>69.010002</td>\n",
       "      <td>eqr</td>\n",
       "    </tr>\n",
       "    <tr>\n",
       "      <th>11613</th>\n",
       "      <td>2025-05-29 00:00:00-04:00</td>\n",
       "      <td>69.980003</td>\n",
       "      <td>eqr</td>\n",
       "    </tr>\n",
       "    <tr>\n",
       "      <th>11614</th>\n",
       "      <td>2025-05-30 00:00:00-04:00</td>\n",
       "      <td>70.139999</td>\n",
       "      <td>eqr</td>\n",
       "    </tr>\n",
       "  </tbody>\n",
       "</table>\n",
       "</div>\n",
       "    <div class=\"colab-df-buttons\">\n",
       "\n",
       "  <div class=\"colab-df-container\">\n",
       "    <button class=\"colab-df-convert\" onclick=\"convertToInteractive('df-be1c941d-2999-4389-9e32-022b931ed26c')\"\n",
       "            title=\"Convert this dataframe to an interactive table.\"\n",
       "            style=\"display:none;\">\n",
       "\n",
       "  <svg xmlns=\"http://www.w3.org/2000/svg\" height=\"24px\" viewBox=\"0 -960 960 960\">\n",
       "    <path d=\"M120-120v-720h720v720H120Zm60-500h600v-160H180v160Zm220 220h160v-160H400v160Zm0 220h160v-160H400v160ZM180-400h160v-160H180v160Zm440 0h160v-160H620v160ZM180-180h160v-160H180v160Zm440 0h160v-160H620v160Z\"/>\n",
       "  </svg>\n",
       "    </button>\n",
       "\n",
       "  <style>\n",
       "    .colab-df-container {\n",
       "      display:flex;\n",
       "      gap: 12px;\n",
       "    }\n",
       "\n",
       "    .colab-df-convert {\n",
       "      background-color: #E8F0FE;\n",
       "      border: none;\n",
       "      border-radius: 50%;\n",
       "      cursor: pointer;\n",
       "      display: none;\n",
       "      fill: #1967D2;\n",
       "      height: 32px;\n",
       "      padding: 0 0 0 0;\n",
       "      width: 32px;\n",
       "    }\n",
       "\n",
       "    .colab-df-convert:hover {\n",
       "      background-color: #E2EBFA;\n",
       "      box-shadow: 0px 1px 2px rgba(60, 64, 67, 0.3), 0px 1px 3px 1px rgba(60, 64, 67, 0.15);\n",
       "      fill: #174EA6;\n",
       "    }\n",
       "\n",
       "    .colab-df-buttons div {\n",
       "      margin-bottom: 4px;\n",
       "    }\n",
       "\n",
       "    [theme=dark] .colab-df-convert {\n",
       "      background-color: #3B4455;\n",
       "      fill: #D2E3FC;\n",
       "    }\n",
       "\n",
       "    [theme=dark] .colab-df-convert:hover {\n",
       "      background-color: #434B5C;\n",
       "      box-shadow: 0px 1px 3px 1px rgba(0, 0, 0, 0.15);\n",
       "      filter: drop-shadow(0px 1px 2px rgba(0, 0, 0, 0.3));\n",
       "      fill: #FFFFFF;\n",
       "    }\n",
       "  </style>\n",
       "\n",
       "    <script>\n",
       "      const buttonEl =\n",
       "        document.querySelector('#df-be1c941d-2999-4389-9e32-022b931ed26c button.colab-df-convert');\n",
       "      buttonEl.style.display =\n",
       "        google.colab.kernel.accessAllowed ? 'block' : 'none';\n",
       "\n",
       "      async function convertToInteractive(key) {\n",
       "        const element = document.querySelector('#df-be1c941d-2999-4389-9e32-022b931ed26c');\n",
       "        const dataTable =\n",
       "          await google.colab.kernel.invokeFunction('convertToInteractive',\n",
       "                                                    [key], {});\n",
       "        if (!dataTable) return;\n",
       "\n",
       "        const docLinkHtml = 'Like what you see? Visit the ' +\n",
       "          '<a target=\"_blank\" href=https://colab.research.google.com/notebooks/data_table.ipynb>data table notebook</a>'\n",
       "          + ' to learn more about interactive tables.';\n",
       "        element.innerHTML = '';\n",
       "        dataTable['output_type'] = 'display_data';\n",
       "        await google.colab.output.renderOutput(dataTable, element);\n",
       "        const docLink = document.createElement('div');\n",
       "        docLink.innerHTML = docLinkHtml;\n",
       "        element.appendChild(docLink);\n",
       "      }\n",
       "    </script>\n",
       "  </div>\n",
       "\n",
       "\n",
       "    <div id=\"df-a1658c96-357b-4416-b8ca-7eb5e6f54501\">\n",
       "      <button class=\"colab-df-quickchart\" onclick=\"quickchart('df-a1658c96-357b-4416-b8ca-7eb5e6f54501')\"\n",
       "                title=\"Suggest charts\"\n",
       "                style=\"display:none;\">\n",
       "\n",
       "<svg xmlns=\"http://www.w3.org/2000/svg\" height=\"24px\"viewBox=\"0 0 24 24\"\n",
       "     width=\"24px\">\n",
       "    <g>\n",
       "        <path d=\"M19 3H5c-1.1 0-2 .9-2 2v14c0 1.1.9 2 2 2h14c1.1 0 2-.9 2-2V5c0-1.1-.9-2-2-2zM9 17H7v-7h2v7zm4 0h-2V7h2v10zm4 0h-2v-4h2v4z\"/>\n",
       "    </g>\n",
       "</svg>\n",
       "      </button>\n",
       "\n",
       "<style>\n",
       "  .colab-df-quickchart {\n",
       "      --bg-color: #E8F0FE;\n",
       "      --fill-color: #1967D2;\n",
       "      --hover-bg-color: #E2EBFA;\n",
       "      --hover-fill-color: #174EA6;\n",
       "      --disabled-fill-color: #AAA;\n",
       "      --disabled-bg-color: #DDD;\n",
       "  }\n",
       "\n",
       "  [theme=dark] .colab-df-quickchart {\n",
       "      --bg-color: #3B4455;\n",
       "      --fill-color: #D2E3FC;\n",
       "      --hover-bg-color: #434B5C;\n",
       "      --hover-fill-color: #FFFFFF;\n",
       "      --disabled-bg-color: #3B4455;\n",
       "      --disabled-fill-color: #666;\n",
       "  }\n",
       "\n",
       "  .colab-df-quickchart {\n",
       "    background-color: var(--bg-color);\n",
       "    border: none;\n",
       "    border-radius: 50%;\n",
       "    cursor: pointer;\n",
       "    display: none;\n",
       "    fill: var(--fill-color);\n",
       "    height: 32px;\n",
       "    padding: 0;\n",
       "    width: 32px;\n",
       "  }\n",
       "\n",
       "  .colab-df-quickchart:hover {\n",
       "    background-color: var(--hover-bg-color);\n",
       "    box-shadow: 0 1px 2px rgba(60, 64, 67, 0.3), 0 1px 3px 1px rgba(60, 64, 67, 0.15);\n",
       "    fill: var(--button-hover-fill-color);\n",
       "  }\n",
       "\n",
       "  .colab-df-quickchart-complete:disabled,\n",
       "  .colab-df-quickchart-complete:disabled:hover {\n",
       "    background-color: var(--disabled-bg-color);\n",
       "    fill: var(--disabled-fill-color);\n",
       "    box-shadow: none;\n",
       "  }\n",
       "\n",
       "  .colab-df-spinner {\n",
       "    border: 2px solid var(--fill-color);\n",
       "    border-color: transparent;\n",
       "    border-bottom-color: var(--fill-color);\n",
       "    animation:\n",
       "      spin 1s steps(1) infinite;\n",
       "  }\n",
       "\n",
       "  @keyframes spin {\n",
       "    0% {\n",
       "      border-color: transparent;\n",
       "      border-bottom-color: var(--fill-color);\n",
       "      border-left-color: var(--fill-color);\n",
       "    }\n",
       "    20% {\n",
       "      border-color: transparent;\n",
       "      border-left-color: var(--fill-color);\n",
       "      border-top-color: var(--fill-color);\n",
       "    }\n",
       "    30% {\n",
       "      border-color: transparent;\n",
       "      border-left-color: var(--fill-color);\n",
       "      border-top-color: var(--fill-color);\n",
       "      border-right-color: var(--fill-color);\n",
       "    }\n",
       "    40% {\n",
       "      border-color: transparent;\n",
       "      border-right-color: var(--fill-color);\n",
       "      border-top-color: var(--fill-color);\n",
       "    }\n",
       "    60% {\n",
       "      border-color: transparent;\n",
       "      border-right-color: var(--fill-color);\n",
       "    }\n",
       "    80% {\n",
       "      border-color: transparent;\n",
       "      border-right-color: var(--fill-color);\n",
       "      border-bottom-color: var(--fill-color);\n",
       "    }\n",
       "    90% {\n",
       "      border-color: transparent;\n",
       "      border-bottom-color: var(--fill-color);\n",
       "    }\n",
       "  }\n",
       "</style>\n",
       "\n",
       "      <script>\n",
       "        async function quickchart(key) {\n",
       "          const quickchartButtonEl =\n",
       "            document.querySelector('#' + key + ' button');\n",
       "          quickchartButtonEl.disabled = true;  // To prevent multiple clicks.\n",
       "          quickchartButtonEl.classList.add('colab-df-spinner');\n",
       "          try {\n",
       "            const charts = await google.colab.kernel.invokeFunction(\n",
       "                'suggestCharts', [key], {});\n",
       "          } catch (error) {\n",
       "            console.error('Error during call to suggestCharts:', error);\n",
       "          }\n",
       "          quickchartButtonEl.classList.remove('colab-df-spinner');\n",
       "          quickchartButtonEl.classList.add('colab-df-quickchart-complete');\n",
       "        }\n",
       "        (() => {\n",
       "          let quickchartButtonEl =\n",
       "            document.querySelector('#df-a1658c96-357b-4416-b8ca-7eb5e6f54501 button');\n",
       "          quickchartButtonEl.style.display =\n",
       "            google.colab.kernel.accessAllowed ? 'block' : 'none';\n",
       "        })();\n",
       "      </script>\n",
       "    </div>\n",
       "\n",
       "    </div>\n",
       "  </div>\n"
      ],
      "text/plain": [
       "                             ds          y unique_id\n",
       "11610 2025-05-26 00:00:00-04:00  67.610001       eqr\n",
       "11611 2025-05-27 00:00:00-04:00  68.620003       eqr\n",
       "11612 2025-05-28 00:00:00-04:00  69.010002       eqr\n",
       "11613 2025-05-29 00:00:00-04:00  69.980003       eqr\n",
       "11614 2025-05-30 00:00:00-04:00  70.139999       eqr"
      ]
     },
     "execution_count": 4,
     "metadata": {},
     "output_type": "execute_result"
    }
   ],
   "source": [
    "# loading data with yfinance library\n",
    "eqr = yf.Ticker(\"EQR\")\n",
    "df = eqr.history(period=\"max\")\n",
    "# making sure we use the same data\n",
    "df = df.loc[: \"2025-06-01\"]\n",
    "\n",
    "df = df[['Close']] # choosing columns we will be using\n",
    "\n",
    "# creating new index which covers all dates and reindexing our dataframe\n",
    "full_index = pd.date_range(start=df.index.min(), end=df.index.max(), freq='D')\n",
    "df = df.reindex(full_index)\n",
    "\n",
    "df['unique_id'] = 'eqr' # column named 'unique_id' is mandatory in TimesFM\n",
    "\n",
    "# filling the data with forward-fill and renaming columns\n",
    "df['Close'].fillna(method='ffill', inplace=True)\n",
    "df = df.reset_index().rename(columns={'index': 'ds', 'Close': 'y'})\n",
    "\n",
    "df['ds'] = pd.to_datetime(df['ds']) # making sure values in 'ds' column are of type datetime\n",
    "\n",
    "df.tail(5)"
   ]
  },
  {
   "cell_type": "code",
   "execution_count": 5,
   "metadata": {
    "colab": {
     "base_uri": "https://localhost:8080/"
    },
    "id": "1zHO4RjObgPS",
    "outputId": "595fad42-4fae-41a9-dcb1-55da5f3b83b7"
   },
   "outputs": [
    {
     "name": "stdout",
     "output_type": "stream",
     "text": [
      "                             ds          y unique_id\n",
      "10454 2022-03-27 00:00:00-04:00  78.885727       eqr\n",
      "10455 2022-03-28 00:00:00-04:00  79.825066       eqr\n",
      "10456 2022-03-29 00:00:00-04:00  82.306313       eqr\n",
      "10457 2022-03-30 00:00:00-04:00  81.083420       eqr\n",
      "10458 2022-03-31 00:00:00-04:00  79.683289       eqr\n"
     ]
    }
   ],
   "source": [
    "# compute split points\n",
    "n = len(df)\n",
    "train_end = round(n * 0.7)\n",
    "valid_end = round(n * 0.9)\n",
    "\n",
    "# split by position\n",
    "train_df = df.iloc[:train_end]\n",
    "valid_df = df.iloc[train_end:valid_end]\n",
    "test_df  = df.iloc[valid_end:]\n",
    "\n",
    "# sanity check\n",
    "assert len(train_df) + len(valid_df) + len(test_df) == n\n",
    "\n",
    "print(test_df.head(5))"
   ]
  },
  {
   "cell_type": "code",
   "execution_count": 6,
   "metadata": {
    "colab": {
     "base_uri": "https://localhost:8080/"
    },
    "id": "-ysjv22DiAyz",
    "outputId": "6d4ee854-9018-4a07-ae8e-816822c46df4"
   },
   "outputs": [
    {
     "name": "stdout",
     "output_type": "stream",
     "text": [
      "[Timestamp('2022-05-13 00:00:00-0400', tz='UTC-04:00'), Timestamp('2022-05-20 00:00:00-0400', tz='UTC-04:00'), Timestamp('2022-05-27 00:00:00-0400', tz='UTC-04:00'), Timestamp('2022-06-03 00:00:00-0400', tz='UTC-04:00'), Timestamp('2022-06-10 00:00:00-0400', tz='UTC-04:00'), Timestamp('2022-06-17 00:00:00-0400', tz='UTC-04:00'), Timestamp('2022-06-24 00:00:00-0400', tz='UTC-04:00'), Timestamp('2022-07-01 00:00:00-0400', tz='UTC-04:00'), Timestamp('2022-07-08 00:00:00-0400', tz='UTC-04:00')]\n"
     ]
    }
   ],
   "source": [
    "start_ts = pd.Timestamp('2022-05-13 00:00:00-0400')\n",
    "\n",
    "# generating list of 9 dates every 7 days\n",
    "test_periods = pd.date_range(start=start_ts, periods=9, freq='7d').tolist()\n",
    "\n",
    "print(test_periods)"
   ]
  },
  {
   "cell_type": "markdown",
   "metadata": {
    "id": "L3kW8F3zUjQH"
   },
   "source": [
    "## Hyperparameter tuning with Optuna"
   ]
  },
  {
   "cell_type": "code",
   "execution_count": 7,
   "metadata": {
    "colab": {
     "base_uri": "https://localhost:8080/",
     "height": 1000,
     "referenced_widgets": [
      "831acdee9bf94ba587db7adc977dcbec",
      "3c3363a9908c4bebb9c8ed99a9764907",
      "cb90b31249854c31a2f79fbf9d28594c",
      "701f92184a6d42198ea8068ddcd90ceb",
      "719842e790ea4da895c517954c02ba0d",
      "be7c42d75f284f7d8ec6745a7043b76d",
      "ec9641ef262f4619bcc24d6b72b2469e",
      "2451284b333a4b6f840b1aa64f67813f",
      "0cf6ad2b98954b6d93d878a4fdf725e9",
      "67af03002f614c5884055175fd049b9a",
      "15d94c239ace4d9a8b5e8c7b84699525",
      "7a96d215a29344339a2cd9172960225e",
      "edf6f50db9744a6391abf6f6efecd71a",
      "84058762bb664962b89b3d21ed159a75",
      "eae7f5638ca4471ba826461b3c2c1026",
      "292538c15bf345a6aabfbbb109b9e5ce",
      "b5b884ab837145eeb5c7f0390c76596f",
      "f9938bb3ccbc452284b5aedae6f671d0",
      "ed99ff7123a84d73b7b24bac44c06663",
      "677c21e2f66c4e3e9314a26a307b281c",
      "8fefc6d7049e48c189792f62dc7c9885",
      "607a07b6f71d4c3892f190591fb7dbed",
      "860fc171c250491e8e0f1ca4e8924501",
      "084f0c88e9a04fcba81517e431159db8",
      "3c741090b5be49348988eefc4a61ffa4",
      "c10400d7478b4470b29c863fe1a280f1",
      "cbbb42943d404c2b80b78188e63b7810",
      "e43e020b58194c4aab83e17aae12a3a6",
      "77fcb27731f04a6bafaa98ffbb48ef86",
      "b51001f3c49b47a6b95bf775fd9b804f",
      "eeddc8a4ae394456a7bae906680d2b5a",
      "7afae433f7244ea4a95d3ac28aff4c33",
      "1bae6e6f2ed74d36858d2572227b1c87",
      "7aa201e434134c828cac3452e7d17f2c",
      "b938b8ecf7e7433c8fd80fe42417b967",
      "cf68ce87020440ca89d3383ab9b15f67",
      "2753178560744fdba36d5a5a979f3b52",
      "44ff6f421d424de5a41f02633459de26",
      "b1f6df6130c54244ac0fc573f1d8d842",
      "ab70e18ebe2f47f7bce2ed47e2836235",
      "f3e5e0404c894415bb7016bbc7e43f2c",
      "508d667105ff4715959e4f7bf72f3fdf",
      "0323dac195174d6bb9c5f08dbc963493",
      "69afd40268834759b0c55a787c7765e0",
      "399afd4421af4c89b6063c8e7f75ccaf",
      "c315ace1b8ed464b83eedda03e61b68c",
      "254fe7fe6a404e00acd4c5271dd74544",
      "a8632e199a494f498ae875776b2f16b1",
      "3027163779e34ba8a228aca5f70cda70",
      "8f98e50eb3a34808a132b24dceb6cae6",
      "33036ba1bb964f31a7e96c0dbfe9ef7c",
      "a78e16b904c34a0db13b711a3043d05d",
      "48838bd00d2b42c08286482c9b76e5ab",
      "fa2e2c18f17c4352aa2af475b47a9f15",
      "60acf3ecfd9e45b08a01c1cce5101c98",
      "30419be644684a23996eb0021c998a97",
      "d6c5e6d9056945fa94a8fa44f86621ee",
      "edd8af70d06a47b69ed53e2a31801991",
      "437054ec030a4027b8fdf8037fbc2316",
      "bbcae1496f5d4ca1bb342e1c3b47e2a5",
      "51fe6bb5ce3d421a83f66431f32d988d",
      "6eec26a7ad02454da9a3476968806432",
      "104508489f0149eca7c0e805164ace9a",
      "6fb72d42bed34870919627d882798d80",
      "7d1a74a3ce4a46a8ac9cbd795e4fe9a5",
      "712e44475e5043f9bd25a10da92d71f7",
      "7993e9799cf94886bffb6b716d60a804",
      "f2b34edd74fd4c9091b8f6404d688be1",
      "31db3bdec7c340a2a4ff3ea2793ce528",
      "053a0e8c713448d0859b5f412be6e1df",
      "72249a7969e4456297eabab68bf92ad7",
      "1532a3a61d68453ba011e2097dbdf4b3",
      "f35e0393e7b44b4582002af32d79e3d4",
      "c5417b5bbd4549a69172608c168a43a2",
      "b36ae0cae4634b02b058891f587c2a5a",
      "f442a15a08ba4337b4ca015d3a164f5b",
      "82d879b559a749b9a19fd204f115e2c7",
      "8d412f18d805469eb26ed1d9c7a1db60",
      "956c63bce50e4740a33bf38fc450d5b8",
      "3d43625889df4cc9b8bcedddab0beb91",
      "06d071e75cc746b2804c743b34e4b1bb",
      "b0501b48810d402199274b28d49f86c6",
      "3c5b945c59b74d618b29bce1f41587c6",
      "a91db6f5bb3d4eadb22ce65edc601659",
      "e66de3864de545a89b44a78869e2f6a5",
      "ded99deaec63426497f1a1cd4a787374",
      "b6aedba0fd4942df844a196373eff07a",
      "51ce3f51d4ba4926a2cde95593b05da8",
      "ed19e4f607a54d0bb033854208059daa",
      "b1dced34e0fc41beaffffede41b5cf1e",
      "e4d1275ce616438bb0a2e27774ce8aa4",
      "e67268cd0a364831827440306347a8f3",
      "670cdc16337348599ad6c392ddc7be92",
      "d573bbe59d70420e95fa8c893c6bdd7c",
      "329f0cf91d9e4666834f76d01f7534af",
      "841a86751ddc489fbedfa155f1154259",
      "26765051581149f1b6cddaa88b7552e9",
      "bbaddb7f3c1140ce81f02c7a7639b9dd",
      "5497834036604ab595aba968c173c52f",
      "d2c8cae3454643f2a230dd9a3fa9747d",
      "4bbfa6034b8a447eb1303b05fdfb4c32",
      "8eace1f6e29b41fe97170ee1c254420f",
      "123fa8db8d9a4437ad9cd5fa6f05859d",
      "df0e6b4e52804e4ea27d9bd67bcc3add",
      "51f522a8696d4293b2f47f2d60b1e9af",
      "97e4579c5e1041909959d79db5ed9038",
      "58e7714962514fb2aab95ce8f78b86b4",
      "1fd759a4d7314513b1ccf0a9f1ad43a9",
      "60435b8b97134ad5b037d8c38ef8b912",
      "05988a197b774f3b8dc6d458ee114ca0",
      "8891f7ecd43c43c198269d54ffbe086b",
      "d0c9a389de874cca99f157151cf4d55a",
      "985500d69def43bb930245d78b859e49",
      "9a3efab065424311a8cb9e5bc08605fa",
      "87f2df7bb4b446ecb88311a73618ec23",
      "fa2cf9c31bb54321ae316c2a51f2c921",
      "8a797c48ecb2471a9f35b10d596779cd",
      "2a3f8691772c48e6896f3db0a7675687",
      "33cfb0e3e96a4d27bcaf33df2634a5de",
      "e0a8a7eb6e5b41a9afb075a23da0738b",
      "76008254b74f467a95d39793afc47d45",
      "a491ad44a8284c228c78a4a65699505d",
      "c069df7d4a0b4868b1241f02aa530129",
      "14f4ec07319f4e7da88ae6adb98a4135",
      "bebec4b7a39a47ada910989490f57220",
      "e03cac263ed044388ff171e387d1a0d7",
      "503fb5b83211455792ff10bedde9c3b0",
      "df4c61e7e59f494a8e361e31f9c15318",
      "3bbe806272e74de398c4b73bad73081e",
      "dbf2757587b9438eb0dd35b9e5bbeff4",
      "dc53cc6abfef4b9c8a69363565914180",
      "69dc3ea30dec47f4ae191b4d9e2c2113",
      "999e72d3d74e461fb323452f58046b4e",
      "4d9a1c42a2ad4a8d9b66f4c6248c5215",
      "332219d97f4e4262aa59df3644da4452",
      "9025be43cd9d442ab66b2580f7823d59",
      "1ad23a6c75594689a491158acdefabf0",
      "c99741edf95943df8ddbb7ba27608007",
      "cb12698796584a99a7e41c26b616dee1",
      "8c8df9f85ff54cd6982019e2ff6354cc",
      "d1244fda144e4c11841852d0bd981aeb",
      "3c561418ddf245da8185ca11fc37a52b",
      "7a396237a4b5471e8862f1260f37240b",
      "74c9f78f93c94b7e99e26209d3401db0",
      "0800989776bb494c95886ff88d719a25",
      "9a66d1448067462f9000ae07c835bb99",
      "ecdce6da466d4fd7ad6abe057c01e5c5",
      "ef3f011b01ab4abba9c5055e4ae0299d",
      "ce8fdb754af54b2b8fb452e31362bc56",
      "05c5c25f56ae4183a54f936ffa68cbc8",
      "ebcbf0fdf00e4e1c8c362b5368b6559e",
      "3fd8e556bfad44c9846f284757eb011a",
      "89500092161946ae9ae90667aeaee778",
      "08c226a707744a86a61059949aacf5f6",
      "5050bc9c08d04870a9bb832f3722b11d",
      "e88e05f8ec764b55b963b0eb29097adb",
      "93978dd75c6240e5b6e25ac8bbf26f62",
      "316a30770a9e4370a237cc0d897053cf",
      "ebb10901b04b44ac8984764133dd2806",
      "1a2b85697b9f45a98006270c8dc043d6",
      "0255d41a300d47dea5c2fb18e7a772c2",
      "bd5068b9da5f4f06aaea7b9f74d79f04",
      "9e1543898c9147ba8d37a10795591719",
      "2024e00c10a04bc0b83a9d4a119c7259",
      "aa943221efa441789f3df702694d4d05",
      "5cdef4a88731497ea58741f2a1276212",
      "1b5cb0d64a7c42278750d84d7cb514a4",
      "13dd93feddca4395bf3c7a373d4c87f9",
      "1c1e86e8bb134e3fb4c486e40ef21ed8",
      "b8b612255a31484ca618bf87133a3bda",
      "77d4af652a3a4ccabebe0f7eb5faab42",
      "f918a4efa29f41d694dd3f538be24fc2",
      "851ced682b3d40d886ab82cf7a9de9b2",
      "f795110f8f7949a198c22859ada5a465",
      "f347239881b64771a7937fff197adb20",
      "cc41b6e059fb4a0ab8eca9ce49e501ee",
      "761163e147b34b25a6975ad8cd633253",
      "b4ede8afd59141ea9e99f4897fca0da2",
      "51e4fbde2bc844929574e04b685b8fe1",
      "5c0ad70a2be84fea860a0cb8092fa9ac",
      "895d38f4bf1c4055b75d8cbf977313a6",
      "97e8f926a5ba4ab9827d6b45b87fbab1",
      "0c926b8ffa724601a7cd5abcd920f06f",
      "99d5cda2e3c84eebb9b1bd543f774e3d",
      "cbdc3ce9300b44d4858090aa6fbc7060",
      "e2c0c250e19d4323aaae03fdfd8e15c3",
      "2903ff3e88ae40ac8e498009ebb03097",
      "945ce9acfea64ad69402c24d6fdc58c4",
      "e05ca53dc202442ea49ca201278aec7b",
      "065dd83598694eeb95f62436680abeeb",
      "007ef60529a24e598bbd9d758b6b32d9",
      "2ad117be35b349bc912a44b96107ca1d",
      "cd33751f297841658cebce2eea72ab94",
      "221df5d53e184c14a5113f38cc7a4a37",
      "8e10f6e20bf84ce7b3f05d37a12938fa",
      "6b4de9075e5b4d90a7dd91b9e7ef5fe3",
      "ed56fba3a94645beac6b8c3a967afa44",
      "1f565645257f4bfbb9d2254b2b32347a",
      "2db33bcd41384af59772b8d8d86465cf",
      "5fa2fcaf3bde4821b88437e014dca1a8",
      "0e893b6248234f75a6f5df21afa2d54e",
      "97ca4845a968483ab519d2d2e45982ef",
      "82b08a945a2f4be29d8664c33bd76041",
      "509f026b15304aaca921120fa20ed2f6",
      "f648009a88894523860506b954568dc4",
      "7677893978b748be8368354c98c112c3",
      "16d0182d4e3746f8adfc6a3faff71a1d",
      "092038b7f95146cc82a41ad3866a124d",
      "ad1a4b2134f14475a04a9aa44e2e95e0",
      "c716a0d98cfa47878bad54326d6d10af",
      "f17a15490a05477db0cf89dccee4e25f",
      "f9ee0c5387a14fc49a5ac09a1f813d7f",
      "186ddb8e19fa47878abcf80688e4c67e",
      "f0e39e4accbc4a1a9b155b8664dacd3d",
      "cbb86d6717ec454292460929c4c13c92",
      "ad4cc0e4e56443d9a95ab6d2f8074133",
      "ae1be8852fbb4798b25e10a92c0cb303",
      "137a11da33114144828c82462de7eb7f",
      "66fc7bc95e1d45df903294c1bad0f212",
      "5862d741c41c4dd8b19d6c3fb4e813bf",
      "a3832d19c9f04804afa3a8c8577a42e9",
      "5bf716537a454d8091cd2a07862bf631",
      "cbee5ec8de144df2b828a9af540cfcda",
      "cefb9e3ab3df417791874e44cbb64591",
      "f06693436ab94301b9d83d9add875136",
      "3cdd7375197f46f5915d3c48b8309963",
      "40cfb89cb2e54d1fa1ba0a6e81db65ca",
      "83e31159799e4af8ae74420fa686fbe1",
      "98433f080ab4400595a0c7efaf136623",
      "7efa4c00161a4c8294f0c867c3c7d6f1",
      "492a3726b8894b84a293bbc62b44e89e",
      "6f744adc6687441eb9f3648e46d30595",
      "cbcdbf5c731c4f5ab158e3a5135025f0",
      "679a5ec3d0a149acb1479169c5e71a24",
      "5a07a34619324e44b05a96ad9c371ff7",
      "e7f45481ee714160bc3f372cffcb8c47",
      "eadc2c32d7e1453db00ed6a6d84244c5",
      "aabbe1e54db34eaba8d5be02fd388f7b",
      "d558b807f49a4b869fff18c861f67237",
      "ea66b185a2a040cda56437b7789c698c",
      "a90bcddc772a4defa4bd1aa32ca9e0c1",
      "df9ccf4b9d4d43d5b9695eaeab4a7090",
      "8f49944c9e464628abfc028d3e2049c0",
      "d9fd11d615b04ae2ac351bd33504341f",
      "84a598fc6ff44f83bb08b4e0e317cc83",
      "08e9fade28e34269a946f818e09b429c",
      "0702647eb8c04dba8475521b263b63de",
      "4b994024cc594e11a0b171cc3e590be7",
      "b65a51a3b7d940678ed56410d7cedf18",
      "9e423457e71c46cd9b2ff5c49391ff90",
      "e333c78761bf48719979751a3818f4b3",
      "3b8fe2bf74d44f4f998e19e25821e0a0",
      "0d8ec6be2c084f55888b9c47761c5b6f",
      "60906d1f4e11498ca6627372b47f20cc",
      "49b58de932724712b5bdbcb3a0a70ae9",
      "6146cb945b234d9cb685627fbed5e4fb",
      "9c1571bc00d74db6a4d0c53a71660aaa",
      "16bdcf0f526242a49bbb61b7c0f0ef95",
      "7ec498e35ef24cd7a9a478e81742749b",
      "427a63ac7e1c4adea8ccd7edcea3b30c",
      "ba8be64f6605480690e1af1df55f3e3e",
      "7546618509a14824993343a03ea86e86",
      "b96363fcd34c41f48a3b1ccd16c37ab1",
      "787fb770604045fbb59bfe5ea11af262",
      "7e5fa4f475e049558cb954c73b7f66b4",
      "15f9212a66b343d1881a6740d56b83ac",
      "e25ab330e86041a69d5b8c6b7ad57dbf",
      "2cbe8091645d431a929cbf3413f0fe1c",
      "8295af9f095e458d88bbcaa2ff757a85",
      "c04a416e01c6459eaea2072de2cdbd5c",
      "710384336456496bad4beb9bf5bdb8ba",
      "ecebdc5ffb2f4b7089fc9dba659ca3e4",
      "5edab84ae4084366b56dac3dae2b3077",
      "b18cd6b93a28430c8ccd51af9e538977",
      "f972efc6ec284a5ea6a8178c98303acb"
     ]
    },
    "id": "9qlC46ZkbqlO",
    "outputId": "4f609c58-0930-46ad-82f4-2a8fc49b67a3"
   },
   "outputs": [
    {
     "name": "stderr",
     "output_type": "stream",
     "text": [
      "[I 2025-06-08 11:25:55,007] A new study created in memory with name: no-name-332c662f-3834-4628-a257-056e884586f6\n",
      "/usr/local/lib/python3.11/dist-packages/huggingface_hub/utils/_auth.py:94: UserWarning: \n",
      "The secret `HF_TOKEN` does not exist in your Colab secrets.\n",
      "To authenticate with the Hugging Face Hub, create a token in your settings tab (https://huggingface.co/settings/tokens), set it as secret in your Google Colab and restart your session.\n",
      "You will be able to reuse this secret in all of your notebooks.\n",
      "Please note that authentication is recommended but still optional to access public models or datasets.\n",
      "  warnings.warn(\n"
     ]
    },
    {
     "data": {
      "application/vnd.jupyter.widget-view+json": {
       "model_id": "831acdee9bf94ba587db7adc977dcbec",
       "version_major": 2,
       "version_minor": 0
      },
      "text/plain": [
       "Fetching 5 files:   0%|          | 0/5 [00:00<?, ?it/s]"
      ]
     },
     "metadata": {},
     "output_type": "display_data"
    },
    {
     "data": {
      "application/vnd.jupyter.widget-view+json": {
       "model_id": "7a96d215a29344339a2cd9172960225e",
       "version_major": 2,
       "version_minor": 0
      },
      "text/plain": [
       "model.safetensors:   0%|          | 0.00/2.00G [00:00<?, ?B/s]"
      ]
     },
     "metadata": {},
     "output_type": "display_data"
    },
    {
     "data": {
      "application/vnd.jupyter.widget-view+json": {
       "model_id": "860fc171c250491e8e0f1ca4e8924501",
       "version_major": 2,
       "version_minor": 0
      },
      "text/plain": [
       "torch_model.ckpt:   0%|          | 0.00/2.00G [00:00<?, ?B/s]"
      ]
     },
     "metadata": {},
     "output_type": "display_data"
    },
    {
     "data": {
      "application/vnd.jupyter.widget-view+json": {
       "model_id": "7aa201e434134c828cac3452e7d17f2c",
       "version_major": 2,
       "version_minor": 0
      },
      "text/plain": [
       ".gitattributes:   0%|          | 0.00/1.57k [00:00<?, ?B/s]"
      ]
     },
     "metadata": {},
     "output_type": "display_data"
    },
    {
     "data": {
      "application/vnd.jupyter.widget-view+json": {
       "model_id": "399afd4421af4c89b6063c8e7f75ccaf",
       "version_major": 2,
       "version_minor": 0
      },
      "text/plain": [
       "config.json:   0%|          | 0.00/692 [00:00<?, ?B/s]"
      ]
     },
     "metadata": {},
     "output_type": "display_data"
    },
    {
     "data": {
      "application/vnd.jupyter.widget-view+json": {
       "model_id": "30419be644684a23996eb0021c998a97",
       "version_major": 2,
       "version_minor": 0
      },
      "text/plain": [
       "README.md:   0%|          | 0.00/7.35k [00:00<?, ?B/s]"
      ]
     },
     "metadata": {},
     "output_type": "display_data"
    },
    {
     "name": "stdout",
     "output_type": "stream",
     "text": [
      "Processing dataframe with multiple processes.\n"
     ]
    },
    {
     "name": "stderr",
     "output_type": "stream",
     "text": [
      "/usr/lib/python3.11/multiprocessing/popen_fork.py:66: RuntimeWarning: os.fork() was called. os.fork() is incompatible with multithreaded code, and JAX is multithreaded, so this will likely lead to a deadlock.\n",
      "  self.pid = os.fork()\n"
     ]
    },
    {
     "name": "stdout",
     "output_type": "stream",
     "text": [
      "Finished preprocessing dataframe.\n"
     ]
    },
    {
     "name": "stderr",
     "output_type": "stream",
     "text": [
      "[I 2025-06-08 11:27:05,927] Trial 0 finished with value: 0.02743113202220774 and parameters: {'context_len': 1568, 'horizon_len': 80, 'per_core_batch_size': 32}. Best is trial 0 with value: 0.02743113202220774.\n"
     ]
    },
    {
     "name": "stdout",
     "output_type": "stream",
     "text": [
      "Finished forecasting.\n"
     ]
    },
    {
     "data": {
      "application/vnd.jupyter.widget-view+json": {
       "model_id": "7993e9799cf94886bffb6b716d60a804",
       "version_major": 2,
       "version_minor": 0
      },
      "text/plain": [
       "Fetching 5 files:   0%|          | 0/5 [00:00<?, ?it/s]"
      ]
     },
     "metadata": {},
     "output_type": "display_data"
    },
    {
     "name": "stdout",
     "output_type": "stream",
     "text": [
      "Processing dataframe with multiple processes.\n"
     ]
    },
    {
     "name": "stderr",
     "output_type": "stream",
     "text": [
      "/usr/lib/python3.11/multiprocessing/popen_fork.py:66: RuntimeWarning: os.fork() was called. os.fork() is incompatible with multithreaded code, and JAX is multithreaded, so this will likely lead to a deadlock.\n",
      "  self.pid = os.fork()\n"
     ]
    },
    {
     "name": "stdout",
     "output_type": "stream",
     "text": [
      "Finished preprocessing dataframe.\n"
     ]
    },
    {
     "name": "stderr",
     "output_type": "stream",
     "text": [
      "[I 2025-06-08 11:27:43,163] Trial 1 finished with value: 0.019959278558405874 and parameters: {'context_len': 960, 'horizon_len': 16, 'per_core_batch_size': 32}. Best is trial 1 with value: 0.019959278558405874.\n"
     ]
    },
    {
     "name": "stdout",
     "output_type": "stream",
     "text": [
      "Finished forecasting.\n"
     ]
    },
    {
     "data": {
      "application/vnd.jupyter.widget-view+json": {
       "model_id": "8d412f18d805469eb26ed1d9c7a1db60",
       "version_major": 2,
       "version_minor": 0
      },
      "text/plain": [
       "Fetching 5 files:   0%|          | 0/5 [00:00<?, ?it/s]"
      ]
     },
     "metadata": {},
     "output_type": "display_data"
    },
    {
     "name": "stdout",
     "output_type": "stream",
     "text": [
      "Processing dataframe with multiple processes.\n"
     ]
    },
    {
     "name": "stderr",
     "output_type": "stream",
     "text": [
      "/usr/lib/python3.11/multiprocessing/popen_fork.py:66: RuntimeWarning: os.fork() was called. os.fork() is incompatible with multithreaded code, and JAX is multithreaded, so this will likely lead to a deadlock.\n",
      "  self.pid = os.fork()\n"
     ]
    },
    {
     "name": "stdout",
     "output_type": "stream",
     "text": [
      "Finished preprocessing dataframe.\n"
     ]
    },
    {
     "name": "stderr",
     "output_type": "stream",
     "text": [
      "[I 2025-06-08 11:28:36,947] Trial 2 finished with value: 0.027471112131570923 and parameters: {'context_len': 1088, 'horizon_len': 48, 'per_core_batch_size': 64}. Best is trial 1 with value: 0.019959278558405874.\n"
     ]
    },
    {
     "name": "stdout",
     "output_type": "stream",
     "text": [
      "Finished forecasting.\n"
     ]
    },
    {
     "data": {
      "application/vnd.jupyter.widget-view+json": {
       "model_id": "ed19e4f607a54d0bb033854208059daa",
       "version_major": 2,
       "version_minor": 0
      },
      "text/plain": [
       "Fetching 5 files:   0%|          | 0/5 [00:00<?, ?it/s]"
      ]
     },
     "metadata": {},
     "output_type": "display_data"
    },
    {
     "name": "stdout",
     "output_type": "stream",
     "text": [
      "Processing dataframe with multiple processes.\n"
     ]
    },
    {
     "name": "stderr",
     "output_type": "stream",
     "text": [
      "/usr/lib/python3.11/multiprocessing/popen_fork.py:66: RuntimeWarning: os.fork() was called. os.fork() is incompatible with multithreaded code, and JAX is multithreaded, so this will likely lead to a deadlock.\n",
      "  self.pid = os.fork()\n"
     ]
    },
    {
     "name": "stdout",
     "output_type": "stream",
     "text": [
      "Finished preprocessing dataframe.\n"
     ]
    },
    {
     "name": "stderr",
     "output_type": "stream",
     "text": [
      "[I 2025-06-08 11:29:00,813] Trial 3 finished with value: 0.03250910254484465 and parameters: {'context_len': 1472, 'horizon_len': 112, 'per_core_batch_size': 16}. Best is trial 1 with value: 0.019959278558405874.\n"
     ]
    },
    {
     "name": "stdout",
     "output_type": "stream",
     "text": [
      "Finished forecasting.\n"
     ]
    },
    {
     "data": {
      "application/vnd.jupyter.widget-view+json": {
       "model_id": "d2c8cae3454643f2a230dd9a3fa9747d",
       "version_major": 2,
       "version_minor": 0
      },
      "text/plain": [
       "Fetching 5 files:   0%|          | 0/5 [00:00<?, ?it/s]"
      ]
     },
     "metadata": {},
     "output_type": "display_data"
    },
    {
     "name": "stdout",
     "output_type": "stream",
     "text": [
      "Processing dataframe with multiple processes.\n"
     ]
    },
    {
     "name": "stderr",
     "output_type": "stream",
     "text": [
      "/usr/lib/python3.11/multiprocessing/popen_fork.py:66: RuntimeWarning: os.fork() was called. os.fork() is incompatible with multithreaded code, and JAX is multithreaded, so this will likely lead to a deadlock.\n",
      "  self.pid = os.fork()\n"
     ]
    },
    {
     "name": "stdout",
     "output_type": "stream",
     "text": [
      "Finished preprocessing dataframe.\n"
     ]
    },
    {
     "name": "stderr",
     "output_type": "stream",
     "text": [
      "[I 2025-06-08 11:29:16,452] Trial 4 finished with value: 0.02704950441355296 and parameters: {'context_len': 352, 'horizon_len': 80, 'per_core_batch_size': 32}. Best is trial 1 with value: 0.019959278558405874.\n"
     ]
    },
    {
     "name": "stdout",
     "output_type": "stream",
     "text": [
      "Finished forecasting.\n"
     ]
    },
    {
     "data": {
      "application/vnd.jupyter.widget-view+json": {
       "model_id": "8891f7ecd43c43c198269d54ffbe086b",
       "version_major": 2,
       "version_minor": 0
      },
      "text/plain": [
       "Fetching 5 files:   0%|          | 0/5 [00:00<?, ?it/s]"
      ]
     },
     "metadata": {},
     "output_type": "display_data"
    },
    {
     "name": "stdout",
     "output_type": "stream",
     "text": [
      "Processing dataframe with multiple processes.\n"
     ]
    },
    {
     "name": "stderr",
     "output_type": "stream",
     "text": [
      "/usr/lib/python3.11/multiprocessing/popen_fork.py:66: RuntimeWarning: os.fork() was called. os.fork() is incompatible with multithreaded code, and JAX is multithreaded, so this will likely lead to a deadlock.\n",
      "  self.pid = os.fork()\n"
     ]
    },
    {
     "name": "stdout",
     "output_type": "stream",
     "text": [
      "Finished preprocessing dataframe.\n"
     ]
    },
    {
     "name": "stderr",
     "output_type": "stream",
     "text": [
      "[I 2025-06-08 11:30:44,161] Trial 5 finished with value: 0.031934109977526465 and parameters: {'context_len': 1856, 'horizon_len': 96, 'per_core_batch_size': 64}. Best is trial 1 with value: 0.019959278558405874.\n"
     ]
    },
    {
     "name": "stdout",
     "output_type": "stream",
     "text": [
      "Finished forecasting.\n"
     ]
    },
    {
     "data": {
      "application/vnd.jupyter.widget-view+json": {
       "model_id": "a491ad44a8284c228c78a4a65699505d",
       "version_major": 2,
       "version_minor": 0
      },
      "text/plain": [
       "Fetching 5 files:   0%|          | 0/5 [00:00<?, ?it/s]"
      ]
     },
     "metadata": {},
     "output_type": "display_data"
    },
    {
     "name": "stdout",
     "output_type": "stream",
     "text": [
      "Processing dataframe with multiple processes.\n"
     ]
    },
    {
     "name": "stderr",
     "output_type": "stream",
     "text": [
      "/usr/lib/python3.11/multiprocessing/popen_fork.py:66: RuntimeWarning: os.fork() was called. os.fork() is incompatible with multithreaded code, and JAX is multithreaded, so this will likely lead to a deadlock.\n",
      "  self.pid = os.fork()\n",
      "/usr/lib/python3.11/multiprocessing/popen_fork.py:66: RuntimeWarning: os.fork() was called. os.fork() is incompatible with multithreaded code, and JAX is multithreaded, so this will likely lead to a deadlock.\n",
      "  self.pid = os.fork()\n"
     ]
    },
    {
     "name": "stdout",
     "output_type": "stream",
     "text": [
      "Finished preprocessing dataframe.\n"
     ]
    },
    {
     "name": "stderr",
     "output_type": "stream",
     "text": [
      "[I 2025-06-08 11:32:02,877] Trial 6 finished with value: 0.027855588851264265 and parameters: {'context_len': 1632, 'horizon_len': 16, 'per_core_batch_size': 64}. Best is trial 1 with value: 0.019959278558405874.\n"
     ]
    },
    {
     "name": "stdout",
     "output_type": "stream",
     "text": [
      "Finished forecasting.\n"
     ]
    },
    {
     "data": {
      "application/vnd.jupyter.widget-view+json": {
       "model_id": "999e72d3d74e461fb323452f58046b4e",
       "version_major": 2,
       "version_minor": 0
      },
      "text/plain": [
       "Fetching 5 files:   0%|          | 0/5 [00:00<?, ?it/s]"
      ]
     },
     "metadata": {},
     "output_type": "display_data"
    },
    {
     "name": "stdout",
     "output_type": "stream",
     "text": [
      "Processing dataframe with multiple processes.\n"
     ]
    },
    {
     "name": "stderr",
     "output_type": "stream",
     "text": [
      "/usr/lib/python3.11/multiprocessing/popen_fork.py:66: RuntimeWarning: os.fork() was called. os.fork() is incompatible with multithreaded code, and JAX is multithreaded, so this will likely lead to a deadlock.\n",
      "  self.pid = os.fork()\n"
     ]
    },
    {
     "name": "stdout",
     "output_type": "stream",
     "text": [
      "Finished preprocessing dataframe.\n"
     ]
    },
    {
     "name": "stderr",
     "output_type": "stream",
     "text": [
      "[I 2025-06-08 11:32:34,502] Trial 7 finished with value: 0.019619796433661917 and parameters: {'context_len': 544, 'horizon_len': 48, 'per_core_batch_size': 64}. Best is trial 7 with value: 0.019619796433661917.\n"
     ]
    },
    {
     "name": "stdout",
     "output_type": "stream",
     "text": [
      "Finished forecasting.\n"
     ]
    },
    {
     "data": {
      "application/vnd.jupyter.widget-view+json": {
       "model_id": "74c9f78f93c94b7e99e26209d3401db0",
       "version_major": 2,
       "version_minor": 0
      },
      "text/plain": [
       "Fetching 5 files:   0%|          | 0/5 [00:00<?, ?it/s]"
      ]
     },
     "metadata": {},
     "output_type": "display_data"
    },
    {
     "name": "stdout",
     "output_type": "stream",
     "text": [
      "Processing dataframe with multiple processes.\n"
     ]
    },
    {
     "name": "stderr",
     "output_type": "stream",
     "text": [
      "/usr/lib/python3.11/multiprocessing/popen_fork.py:66: RuntimeWarning: os.fork() was called. os.fork() is incompatible with multithreaded code, and JAX is multithreaded, so this will likely lead to a deadlock.\n",
      "  self.pid = os.fork()\n",
      "/usr/lib/python3.11/multiprocessing/popen_fork.py:66: RuntimeWarning: os.fork() was called. os.fork() is incompatible with multithreaded code, and JAX is multithreaded, so this will likely lead to a deadlock.\n",
      "  self.pid = os.fork()\n"
     ]
    },
    {
     "name": "stdout",
     "output_type": "stream",
     "text": [
      "Finished preprocessing dataframe.\n"
     ]
    },
    {
     "name": "stderr",
     "output_type": "stream",
     "text": [
      "[I 2025-06-08 11:33:47,319] Trial 8 finished with value: 0.03199526573173547 and parameters: {'context_len': 1568, 'horizon_len': 96, 'per_core_batch_size': 64}. Best is trial 7 with value: 0.019619796433661917.\n"
     ]
    },
    {
     "name": "stdout",
     "output_type": "stream",
     "text": [
      "Finished forecasting.\n"
     ]
    },
    {
     "data": {
      "application/vnd.jupyter.widget-view+json": {
       "model_id": "5050bc9c08d04870a9bb832f3722b11d",
       "version_major": 2,
       "version_minor": 0
      },
      "text/plain": [
       "Fetching 5 files:   0%|          | 0/5 [00:00<?, ?it/s]"
      ]
     },
     "metadata": {},
     "output_type": "display_data"
    },
    {
     "name": "stdout",
     "output_type": "stream",
     "text": [
      "Processing dataframe with multiple processes.\n"
     ]
    },
    {
     "name": "stderr",
     "output_type": "stream",
     "text": [
      "/usr/lib/python3.11/multiprocessing/popen_fork.py:66: RuntimeWarning: os.fork() was called. os.fork() is incompatible with multithreaded code, and JAX is multithreaded, so this will likely lead to a deadlock.\n",
      "  self.pid = os.fork()\n"
     ]
    },
    {
     "name": "stdout",
     "output_type": "stream",
     "text": [
      "Finished preprocessing dataframe.\n"
     ]
    },
    {
     "name": "stderr",
     "output_type": "stream",
     "text": [
      "[I 2025-06-08 11:34:13,450] Trial 9 finished with value: 0.026472575133610933 and parameters: {'context_len': 448, 'horizon_len': 80, 'per_core_batch_size': 64}. Best is trial 7 with value: 0.019619796433661917.\n"
     ]
    },
    {
     "name": "stdout",
     "output_type": "stream",
     "text": [
      "Finished forecasting.\n"
     ]
    },
    {
     "data": {
      "application/vnd.jupyter.widget-view+json": {
       "model_id": "5cdef4a88731497ea58741f2a1276212",
       "version_major": 2,
       "version_minor": 0
      },
      "text/plain": [
       "Fetching 5 files:   0%|          | 0/5 [00:00<?, ?it/s]"
      ]
     },
     "metadata": {},
     "output_type": "display_data"
    },
    {
     "name": "stdout",
     "output_type": "stream",
     "text": [
      "Processing dataframe with multiple processes.\n"
     ]
    },
    {
     "name": "stderr",
     "output_type": "stream",
     "text": [
      "/usr/lib/python3.11/multiprocessing/popen_fork.py:66: RuntimeWarning: os.fork() was called. os.fork() is incompatible with multithreaded code, and JAX is multithreaded, so this will likely lead to a deadlock.\n",
      "  self.pid = os.fork()\n"
     ]
    },
    {
     "name": "stdout",
     "output_type": "stream",
     "text": [
      "Finished preprocessing dataframe.\n"
     ]
    },
    {
     "name": "stderr",
     "output_type": "stream",
     "text": [
      "[I 2025-06-08 11:34:29,375] Trial 10 finished with value: 0.018231608744234976 and parameters: {'context_len': 832, 'horizon_len': 48, 'per_core_batch_size': 16}. Best is trial 10 with value: 0.018231608744234976.\n"
     ]
    },
    {
     "name": "stdout",
     "output_type": "stream",
     "text": [
      "Finished forecasting.\n"
     ]
    },
    {
     "data": {
      "application/vnd.jupyter.widget-view+json": {
       "model_id": "761163e147b34b25a6975ad8cd633253",
       "version_major": 2,
       "version_minor": 0
      },
      "text/plain": [
       "Fetching 5 files:   0%|          | 0/5 [00:00<?, ?it/s]"
      ]
     },
     "metadata": {},
     "output_type": "display_data"
    },
    {
     "name": "stdout",
     "output_type": "stream",
     "text": [
      "Processing dataframe with multiple processes.\n"
     ]
    },
    {
     "name": "stderr",
     "output_type": "stream",
     "text": [
      "/usr/lib/python3.11/multiprocessing/popen_fork.py:66: RuntimeWarning: os.fork() was called. os.fork() is incompatible with multithreaded code, and JAX is multithreaded, so this will likely lead to a deadlock.\n",
      "  self.pid = os.fork()\n"
     ]
    },
    {
     "name": "stdout",
     "output_type": "stream",
     "text": [
      "Finished preprocessing dataframe.\n"
     ]
    },
    {
     "name": "stderr",
     "output_type": "stream",
     "text": [
      "[I 2025-06-08 11:34:45,167] Trial 11 finished with value: 0.016139747438393973 and parameters: {'context_len': 736, 'horizon_len': 48, 'per_core_batch_size': 16}. Best is trial 11 with value: 0.016139747438393973.\n"
     ]
    },
    {
     "name": "stdout",
     "output_type": "stream",
     "text": [
      "Finished forecasting.\n"
     ]
    },
    {
     "data": {
      "application/vnd.jupyter.widget-view+json": {
       "model_id": "945ce9acfea64ad69402c24d6fdc58c4",
       "version_major": 2,
       "version_minor": 0
      },
      "text/plain": [
       "Fetching 5 files:   0%|          | 0/5 [00:00<?, ?it/s]"
      ]
     },
     "metadata": {},
     "output_type": "display_data"
    },
    {
     "name": "stdout",
     "output_type": "stream",
     "text": [
      "Processing dataframe with multiple processes.\n"
     ]
    },
    {
     "name": "stderr",
     "output_type": "stream",
     "text": [
      "/usr/lib/python3.11/multiprocessing/popen_fork.py:66: RuntimeWarning: os.fork() was called. os.fork() is incompatible with multithreaded code, and JAX is multithreaded, so this will likely lead to a deadlock.\n",
      "  self.pid = os.fork()\n"
     ]
    },
    {
     "name": "stdout",
     "output_type": "stream",
     "text": [
      "Finished preprocessing dataframe.\n"
     ]
    },
    {
     "name": "stderr",
     "output_type": "stream",
     "text": [
      "[I 2025-06-08 11:35:02,803] Trial 12 finished with value: 0.014681828550643433 and parameters: {'context_len': 800, 'horizon_len': 48, 'per_core_batch_size': 16}. Best is trial 12 with value: 0.014681828550643433.\n"
     ]
    },
    {
     "name": "stdout",
     "output_type": "stream",
     "text": [
      "Finished forecasting.\n"
     ]
    },
    {
     "data": {
      "application/vnd.jupyter.widget-view+json": {
       "model_id": "2db33bcd41384af59772b8d8d86465cf",
       "version_major": 2,
       "version_minor": 0
      },
      "text/plain": [
       "Fetching 5 files:   0%|          | 0/5 [00:00<?, ?it/s]"
      ]
     },
     "metadata": {},
     "output_type": "display_data"
    },
    {
     "name": "stdout",
     "output_type": "stream",
     "text": [
      "Processing dataframe with multiple processes.\n"
     ]
    },
    {
     "name": "stderr",
     "output_type": "stream",
     "text": [
      "/usr/lib/python3.11/multiprocessing/popen_fork.py:66: RuntimeWarning: os.fork() was called. os.fork() is incompatible with multithreaded code, and JAX is multithreaded, so this will likely lead to a deadlock.\n",
      "  self.pid = os.fork()\n"
     ]
    },
    {
     "name": "stdout",
     "output_type": "stream",
     "text": [
      "Finished preprocessing dataframe.\n"
     ]
    },
    {
     "name": "stderr",
     "output_type": "stream",
     "text": [
      "[I 2025-06-08 11:35:18,193] Trial 13 finished with value: 0.019189232488702745 and parameters: {'context_len': 736, 'horizon_len': 32, 'per_core_batch_size': 16}. Best is trial 12 with value: 0.014681828550643433.\n"
     ]
    },
    {
     "name": "stdout",
     "output_type": "stream",
     "text": [
      "Finished forecasting.\n"
     ]
    },
    {
     "data": {
      "application/vnd.jupyter.widget-view+json": {
       "model_id": "c716a0d98cfa47878bad54326d6d10af",
       "version_major": 2,
       "version_minor": 0
      },
      "text/plain": [
       "Fetching 5 files:   0%|          | 0/5 [00:00<?, ?it/s]"
      ]
     },
     "metadata": {},
     "output_type": "display_data"
    },
    {
     "name": "stdout",
     "output_type": "stream",
     "text": [
      "Processing dataframe with multiple processes.\n"
     ]
    },
    {
     "name": "stderr",
     "output_type": "stream",
     "text": [
      "/usr/lib/python3.11/multiprocessing/popen_fork.py:66: RuntimeWarning: os.fork() was called. os.fork() is incompatible with multithreaded code, and JAX is multithreaded, so this will likely lead to a deadlock.\n",
      "  self.pid = os.fork()\n"
     ]
    },
    {
     "name": "stdout",
     "output_type": "stream",
     "text": [
      "Finished preprocessing dataframe.\n"
     ]
    },
    {
     "name": "stderr",
     "output_type": "stream",
     "text": [
      "[I 2025-06-08 11:35:38,665] Trial 14 finished with value: 0.032304129826334016 and parameters: {'context_len': 1280, 'horizon_len': 64, 'per_core_batch_size': 16}. Best is trial 12 with value: 0.014681828550643433.\n"
     ]
    },
    {
     "name": "stdout",
     "output_type": "stream",
     "text": [
      "Finished forecasting.\n"
     ]
    },
    {
     "data": {
      "application/vnd.jupyter.widget-view+json": {
       "model_id": "a3832d19c9f04804afa3a8c8577a42e9",
       "version_major": 2,
       "version_minor": 0
      },
      "text/plain": [
       "Fetching 5 files:   0%|          | 0/5 [00:00<?, ?it/s]"
      ]
     },
     "metadata": {},
     "output_type": "display_data"
    },
    {
     "name": "stdout",
     "output_type": "stream",
     "text": [
      "Processing dataframe with multiple processes.\n"
     ]
    },
    {
     "name": "stderr",
     "output_type": "stream",
     "text": [
      "/usr/lib/python3.11/multiprocessing/popen_fork.py:66: RuntimeWarning: os.fork() was called. os.fork() is incompatible with multithreaded code, and JAX is multithreaded, so this will likely lead to a deadlock.\n",
      "  self.pid = os.fork()\n",
      "/usr/lib/python3.11/multiprocessing/popen_fork.py:66: RuntimeWarning: os.fork() was called. os.fork() is incompatible with multithreaded code, and JAX is multithreaded, so this will likely lead to a deadlock.\n",
      "  self.pid = os.fork()\n"
     ]
    },
    {
     "name": "stdout",
     "output_type": "stream",
     "text": [
      "Finished preprocessing dataframe.\n"
     ]
    },
    {
     "name": "stderr",
     "output_type": "stream",
     "text": [
      "[I 2025-06-08 11:35:54,914] Trial 15 finished with value: 0.01867789621014232 and parameters: {'context_len': 672, 'horizon_len': 32, 'per_core_batch_size': 16}. Best is trial 12 with value: 0.014681828550643433.\n"
     ]
    },
    {
     "name": "stdout",
     "output_type": "stream",
     "text": [
      "Finished forecasting.\n"
     ]
    },
    {
     "data": {
      "application/vnd.jupyter.widget-view+json": {
       "model_id": "6f744adc6687441eb9f3648e46d30595",
       "version_major": 2,
       "version_minor": 0
      },
      "text/plain": [
       "Fetching 5 files:   0%|          | 0/5 [00:00<?, ?it/s]"
      ]
     },
     "metadata": {},
     "output_type": "display_data"
    },
    {
     "name": "stdout",
     "output_type": "stream",
     "text": [
      "Processing dataframe with multiple processes.\n"
     ]
    },
    {
     "name": "stderr",
     "output_type": "stream",
     "text": [
      "/usr/lib/python3.11/multiprocessing/popen_fork.py:66: RuntimeWarning: os.fork() was called. os.fork() is incompatible with multithreaded code, and JAX is multithreaded, so this will likely lead to a deadlock.\n",
      "  self.pid = os.fork()\n",
      "/usr/lib/python3.11/multiprocessing/popen_fork.py:66: RuntimeWarning: os.fork() was called. os.fork() is incompatible with multithreaded code, and JAX is multithreaded, so this will likely lead to a deadlock.\n",
      "  self.pid = os.fork()\n"
     ]
    },
    {
     "name": "stdout",
     "output_type": "stream",
     "text": [
      "Finished preprocessing dataframe.\n"
     ]
    },
    {
     "name": "stderr",
     "output_type": "stream",
     "text": [
      "[I 2025-06-08 11:36:04,549] Trial 16 finished with value: 0.04730663823051081 and parameters: {'context_len': 256, 'horizon_len': 128, 'per_core_batch_size': 16}. Best is trial 12 with value: 0.014681828550643433.\n"
     ]
    },
    {
     "name": "stdout",
     "output_type": "stream",
     "text": [
      "Finished forecasting.\n"
     ]
    },
    {
     "data": {
      "application/vnd.jupyter.widget-view+json": {
       "model_id": "8f49944c9e464628abfc028d3e2049c0",
       "version_major": 2,
       "version_minor": 0
      },
      "text/plain": [
       "Fetching 5 files:   0%|          | 0/5 [00:00<?, ?it/s]"
      ]
     },
     "metadata": {},
     "output_type": "display_data"
    },
    {
     "name": "stdout",
     "output_type": "stream",
     "text": [
      "Processing dataframe with multiple processes.\n"
     ]
    },
    {
     "name": "stderr",
     "output_type": "stream",
     "text": [
      "/usr/lib/python3.11/multiprocessing/popen_fork.py:66: RuntimeWarning: os.fork() was called. os.fork() is incompatible with multithreaded code, and JAX is multithreaded, so this will likely lead to a deadlock.\n",
      "  self.pid = os.fork()\n"
     ]
    },
    {
     "name": "stdout",
     "output_type": "stream",
     "text": [
      "Finished preprocessing dataframe.\n"
     ]
    },
    {
     "name": "stderr",
     "output_type": "stream",
     "text": [
      "[I 2025-06-08 11:36:25,923] Trial 17 finished with value: 0.027014161041999867 and parameters: {'context_len': 1184, 'horizon_len': 64, 'per_core_batch_size': 16}. Best is trial 12 with value: 0.014681828550643433.\n"
     ]
    },
    {
     "name": "stdout",
     "output_type": "stream",
     "text": [
      "Finished forecasting.\n"
     ]
    },
    {
     "data": {
      "application/vnd.jupyter.widget-view+json": {
       "model_id": "60906d1f4e11498ca6627372b47f20cc",
       "version_major": 2,
       "version_minor": 0
      },
      "text/plain": [
       "Fetching 5 files:   0%|          | 0/5 [00:00<?, ?it/s]"
      ]
     },
     "metadata": {},
     "output_type": "display_data"
    },
    {
     "name": "stdout",
     "output_type": "stream",
     "text": [
      "Processing dataframe with multiple processes.\n"
     ]
    },
    {
     "name": "stderr",
     "output_type": "stream",
     "text": [
      "/usr/lib/python3.11/multiprocessing/popen_fork.py:66: RuntimeWarning: os.fork() was called. os.fork() is incompatible with multithreaded code, and JAX is multithreaded, so this will likely lead to a deadlock.\n",
      "  self.pid = os.fork()\n"
     ]
    },
    {
     "name": "stdout",
     "output_type": "stream",
     "text": [
      "Finished preprocessing dataframe.\n"
     ]
    },
    {
     "name": "stderr",
     "output_type": "stream",
     "text": [
      "[I 2025-06-08 11:36:48,333] Trial 18 finished with value: 0.018749167317645837 and parameters: {'context_len': 928, 'horizon_len': 32, 'per_core_batch_size': 16}. Best is trial 12 with value: 0.014681828550643433.\n"
     ]
    },
    {
     "name": "stdout",
     "output_type": "stream",
     "text": [
      "Finished forecasting.\n"
     ]
    },
    {
     "data": {
      "application/vnd.jupyter.widget-view+json": {
       "model_id": "7e5fa4f475e049558cb954c73b7f66b4",
       "version_major": 2,
       "version_minor": 0
      },
      "text/plain": [
       "Fetching 5 files:   0%|          | 0/5 [00:00<?, ?it/s]"
      ]
     },
     "metadata": {},
     "output_type": "display_data"
    },
    {
     "name": "stdout",
     "output_type": "stream",
     "text": [
      "Processing dataframe with multiple processes.\n"
     ]
    },
    {
     "name": "stderr",
     "output_type": "stream",
     "text": [
      "/usr/lib/python3.11/multiprocessing/popen_fork.py:66: RuntimeWarning: os.fork() was called. os.fork() is incompatible with multithreaded code, and JAX is multithreaded, so this will likely lead to a deadlock.\n",
      "  self.pid = os.fork()\n"
     ]
    },
    {
     "name": "stdout",
     "output_type": "stream",
     "text": [
      "Finished preprocessing dataframe.\n"
     ]
    },
    {
     "name": "stderr",
     "output_type": "stream",
     "text": [
      "[I 2025-06-08 11:37:06,452] Trial 19 finished with value: 0.025770778973635826 and parameters: {'context_len': 608, 'horizon_len': 64, 'per_core_batch_size': 16}. Best is trial 12 with value: 0.014681828550643433.\n"
     ]
    },
    {
     "name": "stdout",
     "output_type": "stream",
     "text": [
      "Finished forecasting.\n",
      "Best MAPE: 0.014681828550643433\n",
      "Best params: {'context_len': 800, 'horizon_len': 48, 'per_core_batch_size': 16}\n"
     ]
    }
   ],
   "source": [
    "# 1. loading checkpoint\n",
    "checkpoint = timesfm.TimesFmCheckpoint(\n",
    "    huggingface_repo_id=\"google/timesfm-2.0-500m-pytorch\"\n",
    ")\n",
    "\n",
    "def objective(trial):\n",
    "    # 2. proposed hyperparameters\n",
    "    context_len = trial.suggest_int(\"context_len\", 256, 2048, step=32)\n",
    "    horizon_len = trial.suggest_int(\"horizon_len\", 16, 128, step=16)\n",
    "    batch_size  = trial.suggest_categorical(\"per_core_batch_size\", [16,32,64])\n",
    "\n",
    "    # 3. model initialization\n",
    "    hparams = timesfm.TimesFmHparams(\n",
    "        backend=\"gpu\",\n",
    "        per_core_batch_size=batch_size,\n",
    "        context_len=context_len,\n",
    "        horizon_len=horizon_len,\n",
    "        # we're keeping the rest of the architecture unchanged\n",
    "        input_patch_len=32,\n",
    "        output_patch_len=128,\n",
    "        num_layers=50,\n",
    "        model_dims=1280,\n",
    "        use_positional_embedding=False,\n",
    "    )\n",
    "    tfm = timesfm.TimesFm(hparams=hparams, checkpoint=checkpoint)\n",
    "\n",
    "    # 4. forecast nad evaluation on first 'horizon_len' days of valid_df\n",
    "    fc = tfm.forecast_on_df(\n",
    "        inputs=train_df,\n",
    "        freq=\"1D\",\n",
    "        value_name=\"y\",\n",
    "        num_jobs=-1\n",
    "    )\n",
    "    # making sure we perform MAPE calculations on fitting data\n",
    "    subtest = valid_df.iloc[:horizon_len]\n",
    "    merged = pd.merge(\n",
    "        subtest[['ds','y']],\n",
    "        fc[['ds','timesfm']],\n",
    "        on='ds', how='inner'\n",
    "    )\n",
    "    # safety check\n",
    "    if len(merged) < horizon_len // 2:\n",
    "        return float(\"inf\")\n",
    "    mape = mean_absolute_percentage_error(\n",
    "        merged['y'].values,\n",
    "        merged['timesfm'].values\n",
    "    )\n",
    "    return mape\n",
    "\n",
    "# 5. creating Optuna study\n",
    "study = optuna.create_study(\n",
    "    direction=\"minimize\",\n",
    "    sampler=optuna.samplers.TPESampler(),\n",
    "    pruner=optuna.pruners.MedianPruner(n_warmup_steps=5)\n",
    ")\n",
    "study.optimize(objective, n_trials=20)\n",
    "\n",
    "print(\"Best MAPE:\", study.best_value)\n",
    "print(\"Best params:\", study.best_params)"
   ]
  },
  {
   "cell_type": "markdown",
   "metadata": {
    "id": "BEoi_H8mWLYU"
   },
   "source": [
    "## Rolling window forecast with best hyperparameters"
   ]
  },
  {
   "cell_type": "code",
   "execution_count": 8,
   "metadata": {
    "colab": {
     "base_uri": "https://localhost:8080/",
     "height": 49,
     "referenced_widgets": [
      "f2fdc66f578c49248c06b2b3add4cef4",
      "36e74f5d77554406a185b8d940825bd7",
      "7ade3f8d1e584b66b716f0ef87960031",
      "3af191c18f9a4175b4d90efcffa5d323",
      "2eb3f951feb1434399b835e11811acc1",
      "e70eab96fd954d45b05251162077f802",
      "0a04c3f36fe54576bf0756c4618e4da4",
      "d5c511b42b004571a7780ab6decb0d1f",
      "8d50809f33484afa854e302ba2c08c02",
      "6215624d0a40472e8c2478c553ffb2c8",
      "1957919f85424d04b672d4629f0a9fae"
     ]
    },
    "id": "j3uoAGrhpsAB",
    "outputId": "3f34fbd9-e416-4623-b767-cd15de186623"
   },
   "outputs": [
    {
     "data": {
      "application/vnd.jupyter.widget-view+json": {
       "model_id": "f2fdc66f578c49248c06b2b3add4cef4",
       "version_major": 2,
       "version_minor": 0
      },
      "text/plain": [
       "Fetching 5 files:   0%|          | 0/5 [00:00<?, ?it/s]"
      ]
     },
     "metadata": {},
     "output_type": "display_data"
    }
   ],
   "source": [
    "hparams = timesfm.TimesFmHparams(\n",
    "    backend=\"gpu\",\n",
    "    per_core_batch_size=study.best_params[\"per_core_batch_size\"],\n",
    "    context_len=study.best_params[\"context_len\"],\n",
    "    horizon_len=study.best_params[\"horizon_len\"],\n",
    "    input_patch_len=32,\n",
    "    output_patch_len=128,\n",
    "    num_layers=50,\n",
    "    model_dims=1280,\n",
    "    use_positional_embedding=False,\n",
    ")\n",
    "tfm_best = timesfm.TimesFm(hparams=hparams, checkpoint=checkpoint)"
   ]
  },
  {
   "cell_type": "code",
   "execution_count": 10,
   "metadata": {
    "colab": {
     "base_uri": "https://localhost:8080/",
     "height": 1000
    },
    "id": "u_WFle7QGGKk",
    "outputId": "7635d039-2b8f-42e7-8e27-fb097fdf8d9d"
   },
   "outputs": [
    {
     "name": "stdout",
     "output_type": "stream",
     "text": [
      "Processing dataframe with multiple processes.\n"
     ]
    },
    {
     "name": "stderr",
     "output_type": "stream",
     "text": [
      "/usr/lib/python3.11/multiprocessing/popen_fork.py:66: RuntimeWarning: os.fork() was called. os.fork() is incompatible with multithreaded code, and JAX is multithreaded, so this will likely lead to a deadlock.\n",
      "  self.pid = os.fork()\n"
     ]
    },
    {
     "name": "stdout",
     "output_type": "stream",
     "text": [
      "Finished preprocessing dataframe.\n",
      "Finished forecasting.\n",
      "Window start 2022-05-13 – MAPE: 1.41%\n",
      "Processing dataframe with multiple processes.\n"
     ]
    },
    {
     "name": "stderr",
     "output_type": "stream",
     "text": [
      "/usr/lib/python3.11/multiprocessing/popen_fork.py:66: RuntimeWarning: os.fork() was called. os.fork() is incompatible with multithreaded code, and JAX is multithreaded, so this will likely lead to a deadlock.\n",
      "  self.pid = os.fork()\n"
     ]
    },
    {
     "name": "stdout",
     "output_type": "stream",
     "text": [
      "Finished preprocessing dataframe.\n",
      "Finished forecasting.\n",
      "Window start 2022-05-20 – MAPE: 1.80%\n",
      "Processing dataframe with multiple processes.\n"
     ]
    },
    {
     "name": "stderr",
     "output_type": "stream",
     "text": [
      "/usr/lib/python3.11/multiprocessing/popen_fork.py:66: RuntimeWarning: os.fork() was called. os.fork() is incompatible with multithreaded code, and JAX is multithreaded, so this will likely lead to a deadlock.\n",
      "  self.pid = os.fork()\n"
     ]
    },
    {
     "name": "stdout",
     "output_type": "stream",
     "text": [
      "Finished preprocessing dataframe.\n",
      "Finished forecasting.\n",
      "Window start 2022-05-27 – MAPE: 1.64%\n",
      "Processing dataframe with multiple processes.\n"
     ]
    },
    {
     "name": "stderr",
     "output_type": "stream",
     "text": [
      "/usr/lib/python3.11/multiprocessing/popen_fork.py:66: RuntimeWarning: os.fork() was called. os.fork() is incompatible with multithreaded code, and JAX is multithreaded, so this will likely lead to a deadlock.\n",
      "  self.pid = os.fork()\n"
     ]
    },
    {
     "name": "stdout",
     "output_type": "stream",
     "text": [
      "Finished preprocessing dataframe.\n",
      "Finished forecasting.\n",
      "Window start 2022-06-03 – MAPE: 4.28%\n",
      "Processing dataframe with multiple processes.\n"
     ]
    },
    {
     "name": "stderr",
     "output_type": "stream",
     "text": [
      "/usr/lib/python3.11/multiprocessing/popen_fork.py:66: RuntimeWarning: os.fork() was called. os.fork() is incompatible with multithreaded code, and JAX is multithreaded, so this will likely lead to a deadlock.\n",
      "  self.pid = os.fork()\n"
     ]
    },
    {
     "name": "stdout",
     "output_type": "stream",
     "text": [
      "Finished preprocessing dataframe.\n",
      "Finished forecasting.\n",
      "Window start 2022-06-10 – MAPE: 2.87%\n",
      "Processing dataframe with multiple processes.\n"
     ]
    },
    {
     "name": "stderr",
     "output_type": "stream",
     "text": [
      "/usr/lib/python3.11/multiprocessing/popen_fork.py:66: RuntimeWarning: os.fork() was called. os.fork() is incompatible with multithreaded code, and JAX is multithreaded, so this will likely lead to a deadlock.\n",
      "  self.pid = os.fork()\n"
     ]
    },
    {
     "name": "stdout",
     "output_type": "stream",
     "text": [
      "Finished preprocessing dataframe.\n",
      "Finished forecasting.\n",
      "Window start 2022-06-17 – MAPE: 3.32%\n",
      "Processing dataframe with multiple processes.\n"
     ]
    },
    {
     "name": "stderr",
     "output_type": "stream",
     "text": [
      "/usr/lib/python3.11/multiprocessing/popen_fork.py:66: RuntimeWarning: os.fork() was called. os.fork() is incompatible with multithreaded code, and JAX is multithreaded, so this will likely lead to a deadlock.\n",
      "  self.pid = os.fork()\n"
     ]
    },
    {
     "name": "stdout",
     "output_type": "stream",
     "text": [
      "Finished preprocessing dataframe.\n",
      "Finished forecasting.\n",
      "Window start 2022-06-24 – MAPE: 0.62%\n",
      "Processing dataframe with multiple processes.\n"
     ]
    },
    {
     "name": "stderr",
     "output_type": "stream",
     "text": [
      "/usr/lib/python3.11/multiprocessing/popen_fork.py:66: RuntimeWarning: os.fork() was called. os.fork() is incompatible with multithreaded code, and JAX is multithreaded, so this will likely lead to a deadlock.\n",
      "  self.pid = os.fork()\n",
      "/usr/lib/python3.11/multiprocessing/popen_fork.py:66: RuntimeWarning: os.fork() was called. os.fork() is incompatible with multithreaded code, and JAX is multithreaded, so this will likely lead to a deadlock.\n",
      "  self.pid = os.fork()\n"
     ]
    },
    {
     "name": "stdout",
     "output_type": "stream",
     "text": [
      "Finished preprocessing dataframe.\n",
      "Finished forecasting.\n",
      "Window start 2022-07-01 – MAPE: 0.63%\n",
      "Processing dataframe with multiple processes.\n"
     ]
    },
    {
     "name": "stderr",
     "output_type": "stream",
     "text": [
      "/usr/lib/python3.11/multiprocessing/popen_fork.py:66: RuntimeWarning: os.fork() was called. os.fork() is incompatible with multithreaded code, and JAX is multithreaded, so this will likely lead to a deadlock.\n",
      "  self.pid = os.fork()\n"
     ]
    },
    {
     "name": "stdout",
     "output_type": "stream",
     "text": [
      "Finished preprocessing dataframe.\n",
      "Finished forecasting.\n",
      "Window start 2022-07-08 – MAPE: 0.92%\n"
     ]
    },
    {
     "data": {
      "image/png": "[encoded data removed]",
      "text/plain": [
       "<Figure size 1600x900 with 9 Axes>"
      ]
     },
     "metadata": {},
     "output_type": "display_data"
    },
    {
     "name": "stdout",
     "output_type": "stream",
     "text": [
      "Average 7-day MAPE across windows: 1.94%\n"
     ]
    }
   ],
   "source": [
    "zs_forecasts = []   # each element: forecast DataFrame with columns ['ds','timesfm-q-0.1','timesfm-q-0.5','timesfm-q-0.9']\n",
    "zs_actuals   = []   # each element: DataFrame with actual values for week of the forecast ['ds','value']\n",
    "zs_prevweek  = []   # each element: DataFrame with actual values for week prior to the forecast ['ds','value']\n",
    "zs_mapes     = []   # MAPEs for each window\n",
    "\n",
    "for period_start in test_periods:\n",
    "    # 1. history (all data < period_start)\n",
    "    history = df[df['ds'] < period_start].copy()\n",
    "    if history.empty:\n",
    "        print(f\"Brak historii przed {period_start.date()}, pomijam.\")\n",
    "        continue\n",
    "\n",
    "    # 2. forecast\n",
    "    forecast_df = tfm_best.forecast_on_df(\n",
    "        inputs=history,\n",
    "        freq=\"1D\",\n",
    "        value_name=\"y\",\n",
    "        num_jobs=-1\n",
    "    ).copy()\n",
    "\n",
    "    # 3. taking only first 7 days of the forecast [period_start, period_start+7d)\n",
    "    end_7d = period_start + pd.Timedelta(days=7)\n",
    "    fc7 = forecast_df[\n",
    "        (forecast_df['ds'] >= period_start) &\n",
    "        (forecast_df['ds'] <  end_7d)\n",
    "    ].sort_values('ds').reset_index(drop=True)\n",
    "\n",
    "    if fc7.empty:\n",
    "        print(f\"Brak prognozy w oknie {period_start.date()} – {end_7d.date()}, pomijam.\")\n",
    "        continue\n",
    "\n",
    "    # 4. actual values in the week of the current forecast\n",
    "    act7 = df[\n",
    "        (df['ds'] >= period_start) &\n",
    "        (df['ds'] <  end_7d)\n",
    "    ].sort_values('ds').reset_index(drop=True)\n",
    "    if act7.empty:\n",
    "        print(f\"Brak realnych danych w oknie {period_start.date()} – {end_7d.date()}, pomijam.\")\n",
    "        continue\n",
    "\n",
    "    # 5. actual values in the week prior to the current forecast\n",
    "    prev_start = period_start - pd.Timedelta(days=7)\n",
    "    prev7 = df[\n",
    "        (df['ds'] >= prev_start) &\n",
    "        (df['ds'] <  period_start)\n",
    "    ].sort_values('ds').reset_index(drop=True)\n",
    "    if prev7.empty:\n",
    "        prev7 = pd.DataFrame({'ds': [], 'y': []})\n",
    "\n",
    "    # 6. fitting predicted and actual data\n",
    "    merged = pd.merge_asof(\n",
    "        act7[['ds','y']].sort_values('ds'),\n",
    "        fc7[['ds','timesfm-q-0.1','timesfm-q-0.5','timesfm-q-0.9']].sort_values('ds'),\n",
    "        on='ds',\n",
    "        direction='nearest',\n",
    "        tolerance=pd.Timedelta('1D')\n",
    "    ).dropna(subset=['y','timesfm-q-0.5'])\n",
    "    if merged.empty:\n",
    "        print(f\"Brak dopasowanych pikseli w oknie {period_start.date()}, pomijam.\")\n",
    "        continue\n",
    "\n",
    "    # 7. MAPE for median values\n",
    "    mape = mean_absolute_percentage_error(merged['y'], merged['timesfm-q-0.5']) * 100\n",
    "    zs_mapes.append(mape)\n",
    "\n",
    "    # 8. storing results\n",
    "    zs_forecasts.append(fc7.copy())\n",
    "    zs_actuals.append(act7[['ds','y']].copy())\n",
    "    zs_prevweek.append(prev7[['ds','y']].copy())\n",
    "\n",
    "    print(f\"Window start {period_start.date():%Y-%m-%d} – MAPE: {mape:.2f}%\")\n",
    "\n",
    "# 9. visualization\n",
    "plt.figure(figsize=(16, 9))\n",
    "plt.rcParams.update({'font.size': 11})\n",
    "\n",
    "n_windows = len(zs_forecasts)\n",
    "ncols = 3\n",
    "nrows = int(np.ceil(n_windows / ncols))\n",
    "\n",
    "for idx in range(n_windows):\n",
    "    ax = plt.subplot(nrows, ncols, idx + 1)\n",
    "\n",
    "    fc7   = zs_forecasts[idx]\n",
    "    act7  = zs_actuals[idx]\n",
    "    prev7 = zs_prevweek[idx]\n",
    "    start_date = test_periods[idx]\n",
    "    mape = zs_mapes[idx]\n",
    "\n",
    "    combined = pd.concat([prev7, act7]).sort_values('ds')\n",
    "    ax.plot(combined['ds'], combined['y'], linestyle='-', color='C0', label='Actual')\n",
    "    ax.plot(fc7['ds'], fc7['timesfm-q-0.5'], color='C1', marker='o', label='Median forecast')\n",
    "    # confidence intervals\n",
    "    ax.fill_between(\n",
    "        fc7['ds'],\n",
    "        fc7['timesfm-q-0.1'],\n",
    "        fc7['timesfm-q-0.5'],\n",
    "        alpha=0.2,\n",
    "        color='C2'\n",
    "    )\n",
    "    ax.fill_between(\n",
    "        fc7['ds'],\n",
    "        fc7['timesfm-q-0.5'],\n",
    "        fc7['timesfm-q-0.9'],\n",
    "        alpha=0.2,\n",
    "        color='C2'\n",
    "    )\n",
    "\n",
    "    ax.set_title(f\"Start: {start_date.date()}   MAPE: {mape:.2f}%\")\n",
    "    ax.tick_params(labelrotation=30)\n",
    "    if idx == 0:\n",
    "        ax.legend(loc='upper left')\n",
    "\n",
    "plt.tight_layout()\n",
    "plt.suptitle(\"7-day TimesFM forecasts every 7 days\\n\", y=1.02, fontsize=14)\n",
    "plt.show()\n",
    "\n",
    "print(f\"Average 7-day MAPE across windows: {np.mean(zs_mapes):.2f}%\")\n"
   ]
  },
  {
   "cell_type": "markdown",
   "metadata": {
    "id": "YBdWR7nIY5U5"
   },
   "source": [
    "## Long-horizon forecast (full test set)"
   ]
  },
  {
   "cell_type": "code",
   "execution_count": 11,
   "metadata": {
    "colab": {
     "base_uri": "https://localhost:8080/",
     "height": 265,
     "referenced_widgets": [
      "a90b582672ac459e9eb3892a1f0b7331",
      "7d47c48fb3e2460183b5e4d5d9139ac8",
      "00020382b21b4f08b8b75176dde7b0bd",
      "d37a6d2f9b314977abd86210d70ba4f5",
      "1c7cb867e8dd4f7eb6d04fbf78496f62",
      "10aa168032ce430299df1a155b68c529",
      "507f2e75e0554368ab81e8352edd2f43",
      "b4a5937baa71427b98079fc3def74328",
      "9cdee1616b9d4931938b44945aeca0db",
      "535f54672c7143fc8804063dc218513a",
      "80d274c6bac7459c9ab26c3b5328f89c"
     ]
    },
    "id": "ZUjyW_ruZw1v",
    "outputId": "97d57394-f4dd-4549-cbfa-32ea3a74b803"
   },
   "outputs": [
    {
     "data": {
      "application/vnd.jupyter.widget-view+json": {
       "model_id": "a90b582672ac459e9eb3892a1f0b7331",
       "version_major": 2,
       "version_minor": 0
      },
      "text/plain": [
       "Fetching 5 files:   0%|          | 0/5 [00:00<?, ?it/s]"
      ]
     },
     "metadata": {},
     "output_type": "display_data"
    },
    {
     "name": "stdout",
     "output_type": "stream",
     "text": [
      "                             ds          y unique_id\n",
      "10449 2022-03-22 00:00:00-04:00  77.516624       eqr\n",
      "10450 2022-03-23 00:00:00-04:00  76.935928       eqr\n",
      "10451 2022-03-24 00:00:00-04:00  77.516624       eqr\n",
      "10452 2022-03-25 00:00:00-04:00  78.885727       eqr\n",
      "10453 2022-03-26 00:00:00-04:00  78.885727       eqr\n",
      "Processing dataframe with multiple processes.\n"
     ]
    },
    {
     "name": "stderr",
     "output_type": "stream",
     "text": [
      "/usr/lib/python3.11/multiprocessing/popen_fork.py:66: RuntimeWarning: os.fork() was called. os.fork() is incompatible with multithreaded code, and JAX is multithreaded, so this will likely lead to a deadlock.\n",
      "  self.pid = os.fork()\n"
     ]
    },
    {
     "name": "stdout",
     "output_type": "stream",
     "text": [
      "Finished preprocessing dataframe.\n",
      "Finished forecasting.\n"
     ]
    }
   ],
   "source": [
    "hparams = timesfm.TimesFmHparams(\n",
    "    backend=\"gpu\",\n",
    "    per_core_batch_size=study.best_params[\"per_core_batch_size\"],\n",
    "    context_len=study.best_params[\"context_len\"],\n",
    "    horizon_len=1608,\n",
    "    input_patch_len=32,\n",
    "    output_patch_len=128,\n",
    "    num_layers=50,\n",
    "    model_dims=1280,\n",
    "    use_positional_embedding=False,\n",
    ")\n",
    "tfm_best = timesfm.TimesFm(hparams=hparams, checkpoint=checkpoint)\n",
    "\n",
    "full_train = df.iloc[:valid_end]\n",
    "print(full_train.tail(5))\n",
    "\n",
    "forecast_df = tfm_best.forecast_on_df(\n",
    "        inputs=full_train,\n",
    "        freq=\"1D\",\n",
    "        value_name=\"y\",\n",
    "        num_jobs=-1\n",
    "    )"
   ]
  },
  {
   "cell_type": "code",
   "execution_count": 12,
   "metadata": {
    "colab": {
     "base_uri": "https://localhost:8080/",
     "height": 851
    },
    "id": "LY9-gE_3aNXP",
    "outputId": "02088fdd-c3d4-42f8-956a-34d1133cfbdc"
   },
   "outputs": [
    {
     "name": "stdout",
     "output_type": "stream",
     "text": [
      "                             ds          y unique_id\n",
      "10004 2021-01-01 00:00:00-05:00  50.610485       eqr\n",
      "10005 2021-01-02 00:00:00-05:00  50.610485       eqr\n",
      "10006 2021-01-03 00:00:00-05:00  50.610485       eqr\n",
      "10007 2021-01-04 00:00:00-05:00  49.090809       eqr\n",
      "10008 2021-01-05 00:00:00-05:00  48.706623       eqr\n",
      "...                         ...        ...       ...\n",
      "10449 2022-03-22 00:00:00-04:00  77.516624       eqr\n",
      "10450 2022-03-23 00:00:00-04:00  76.935928       eqr\n",
      "10451 2022-03-24 00:00:00-04:00  77.516624       eqr\n",
      "10452 2022-03-25 00:00:00-04:00  78.885727       eqr\n",
      "10453 2022-03-26 00:00:00-04:00  78.885727       eqr\n",
      "\n",
      "[450 rows x 3 columns]\n"
     ]
    },
    {
     "data": {
      "image/png": "[encoded data removed]",
      "text/plain": [
       "<Figure size 1200x600 with 1 Axes>"
      ]
     },
     "metadata": {},
     "output_type": "display_data"
    }
   ],
   "source": [
    "# 1. merge “forecast_df” with “df_test” on exact “ds” to get median + quantiles aligned with actuals:\n",
    "merged = pd.merge(\n",
    "    test_df[['ds', 'y']].rename(columns={'y': 'actual'}),\n",
    "    forecast_df[['ds', 'timesfm-q-0.1', 'timesfm-q-0.5', 'timesfm-q-0.9']],\n",
    "    on='ds',\n",
    "    how='inner'\n",
    ")\n",
    "\n",
    "# 2. compute overall MAPE (in percent) between actual and median forecast:\n",
    "mape_overall = mean_absolute_percentage_error(\n",
    "    merged['actual'],\n",
    "    merged['timesfm-q-0.5']\n",
    ") * 100\n",
    "\n",
    "last_test_date = test_df['ds'].max()\n",
    "\n",
    "mask_forecast_to_test = forecast_df['ds'] <= last_test_date\n",
    "forecast_df = forecast_df.loc[mask_forecast_to_test].copy()\n",
    "\n",
    "history   = df[(df['ds'] <= valid_df['ds'].max()) & (df['ds'] > '2021-01-01 00:00:00-04:00')]\n",
    "print(history)\n",
    "\n",
    "\n",
    "# 3. plot everything in one figure:\n",
    "plt.figure(figsize=(12, 6))\n",
    "plt.rcParams.update({'font.size': 12})\n",
    "\n",
    "# 3a) plot the historical training series as a solid black line:\n",
    "plt.plot(\n",
    "    history['ds'],\n",
    "    history['y'],\n",
    "    color='black',\n",
    "    linewidth=1.5,\n",
    "    label='Training (history)'\n",
    ")\n",
    "\n",
    "# 3b) plot the actual test series as a solid blue line:\n",
    "plt.plot(\n",
    "    test_df['ds'],\n",
    "    test_df['y'],\n",
    "    color='C0',\n",
    "    linewidth=1.5,\n",
    "    label='Actual (test)'\n",
    ")\n",
    "\n",
    "# 3c) plot the median forecast (timesfm-q-0.5) as a green line with markers:\n",
    "plt.plot(\n",
    "    forecast_df['ds'],\n",
    "    forecast_df['timesfm-q-0.5'],\n",
    "    color='C2',\n",
    "    linestyle='-',\n",
    "    linewidth=1.5,\n",
    "    alpha=0.8,\n",
    "    marker='o',\n",
    "    markersize=4,\n",
    "    label='Median Forecast'\n",
    ")\n",
    "\n",
    "# 3d) draw the 10–90 % confidence band (shaded area) in light green:\n",
    "plt.fill_between(\n",
    "    forecast_df['ds'].values,\n",
    "    forecast_df['timesfm-q-0.1'].values,\n",
    "    forecast_df['timesfm-q-0.9'].values,\n",
    "    color='C2',\n",
    "    alpha=0.2,\n",
    "    label='10–90% Interval'\n",
    ")\n",
    "\n",
    "# 4. formatting:\n",
    "plt.xlabel('Date')\n",
    "plt.ylabel('Value (y)')\n",
    "plt.title(f'TimesFM Forecast with 10–90% Confidence Band\\nOverall MAPE = {mape_overall:.2f}%')\n",
    "plt.legend(loc='upper left')\n",
    "plt.grid(alpha=0.3)\n",
    "\n",
    "plt.tight_layout()\n",
    "plt.show()\n"
   ]
  },
  {
   "cell_type": "code",
   "execution_count": 13,
   "metadata": {
    "colab": {
     "base_uri": "https://localhost:8080/"
    },
    "id": "gLu2TU7bb9gK",
    "outputId": "ec95c903-f2c6-4ae2-a7aa-caa3f44f4483"
   },
   "outputs": [
    {
     "name": "stdout",
     "output_type": "stream",
     "text": [
      "Highest 90% quantile occurs on: 2022-08-01 00:00:00-04:00\n"
     ]
    }
   ],
   "source": [
    "max_idx = forecast_df['timesfm-q-0.9'].idxmax()\n",
    "max_date = forecast_df.loc[max_idx, 'ds']\n",
    "\n",
    "print(f\"Highest 90% quantile occurs on: {max_date}\")"
   ]
  }
 ],
 "metadata": {
  "accelerator": "GPU",
  "colab": {
   "gpuType": "T4",
   "provenance": []
  },
  "kernelspec": {
   "display_name": "Python 3",
   "name": "python3"
  },
  "language_info": {
   "name": "python"
  }
 },
 "nbformat": 4,
 "nbformat_minor": 0
}
